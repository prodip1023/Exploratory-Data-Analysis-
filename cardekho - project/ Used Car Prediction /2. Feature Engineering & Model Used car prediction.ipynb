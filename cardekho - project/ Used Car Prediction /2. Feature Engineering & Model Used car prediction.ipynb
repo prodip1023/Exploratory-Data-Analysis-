{
 "cells": [
  {
   "cell_type": "markdown",
   "id": "489b6ded",
   "metadata": {},
   "source": [
    "![image info](https://ineuron.ai/images/ineuron-logo.png)"
   ]
  },
  {
   "cell_type": "markdown",
   "id": "4437a980",
   "metadata": {},
   "source": [
    "# Data Pre-Processing"
   ]
  },
  {
   "cell_type": "markdown",
   "id": "74b4d7e0",
   "metadata": {},
   "source": [
    "#### Import Packages and CSV"
   ]
  },
  {
   "cell_type": "code",
   "execution_count": 43,
   "id": "5530cc59",
   "metadata": {
    "tags": []
   },
   "outputs": [
    {
     "name": "stdout",
     "output_type": "stream",
     "text": [
      "(15411, 12)\n"
     ]
    }
   ],
   "source": [
    "import pandas as pd\n",
    "import numpy as np\n",
    "import matplotlib.pyplot as plt\n",
    "import seaborn as sns\n",
    "import warnings\n",
    "warnings.filterwarnings(\"ignore\")\n",
    "pd.pandas.set_option(\"display.max_columns\", None)\n",
    "# Reading the Dataframe\n",
    "df = pd.read_csv(\"./data/cardekho_imputated.csv\")\n",
    "\n",
    "# Print shape of dataset\n",
    "print(df.shape)"
   ]
  },
  {
   "cell_type": "markdown",
   "id": "c27265bd",
   "metadata": {},
   "source": [
    "## Data Cleaning"
   ]
  },
  {
   "cell_type": "markdown",
   "id": "dbad805a",
   "metadata": {},
   "source": [
    "### Handling Missing values"
   ]
  },
  {
   "cell_type": "markdown",
   "id": "0a0c1c0d",
   "metadata": {},
   "source": [
    "* Handling Missing values \n",
    "* Handling Duplicates\n",
    "* Check data type\n",
    "* Understand the dataset"
   ]
  },
  {
   "cell_type": "markdown",
   "id": "40b4a428",
   "metadata": {},
   "source": [
    "#### Check Null Values"
   ]
  },
  {
   "cell_type": "code",
   "execution_count": 2,
   "id": "2b94aa8f",
   "metadata": {
    "tags": []
   },
   "outputs": [
    {
     "data": {
      "text/plain": [
       "Unnamed: 0           0\n",
       "car_name             0\n",
       "brand                0\n",
       "model                0\n",
       "vehicle_age          0\n",
       "km_driven            0\n",
       "seller_type          0\n",
       "fuel_type            0\n",
       "transmission_type    0\n",
       "mileage              0\n",
       "engine               0\n",
       "max_power            0\n",
       "seats                0\n",
       "selling_price        0\n",
       "dtype: int64"
      ]
     },
     "execution_count": 2,
     "metadata": {},
     "output_type": "execute_result"
    }
   ],
   "source": [
    "##Check features with nan value\n",
    "df.isnull().sum()"
   ]
  },
  {
   "cell_type": "markdown",
   "id": "b35c055d",
   "metadata": {},
   "source": [
    "**What does NaN mean?**\n",
    "\n",
    "**Ans:** Missing Values in a DataFrame\n",
    "\n",
    "**Why might a value be missing?** \n",
    "\n",
    "**Ans:** When considering the potential impact of the missing data on the Dataset, it is important to consider the underlying reasons for why the data are missing\n",
    "Missing data are of three categories:\n",
    "* Missing completely at random (MCAR)\n",
    "* Missing at random (MAR).\n",
    "* Missing not at random (MNAR). \n",
    "\n",
    "Here We dont have any missing values in the dataset."
   ]
  },
  {
   "cell_type": "markdown",
   "id": "76eafe12",
   "metadata": {},
   "source": [
    "### 3.2 Other Data Cleaning steps"
   ]
  },
  {
   "cell_type": "markdown",
   "id": "471fd48f",
   "metadata": {},
   "source": [
    "**Handling Duplicates**"
   ]
  },
  {
   "cell_type": "code",
   "execution_count": 2,
   "id": "d8fa17e0",
   "metadata": {
    "tags": []
   },
   "outputs": [
    {
     "data": {
      "text/plain": [
       "0"
      ]
     },
     "execution_count": 2,
     "metadata": {},
     "output_type": "execute_result"
    }
   ],
   "source": [
    "df.duplicated().sum()"
   ]
  },
  {
   "cell_type": "markdown",
   "id": "6f868b71",
   "metadata": {},
   "source": [
    "**Report**\n",
    "* No Duplicates in the dataset."
   ]
  },
  {
   "cell_type": "markdown",
   "id": "6d48a184",
   "metadata": {},
   "source": [
    "# Feature Engineering"
   ]
  },
  {
   "cell_type": "markdown",
   "id": "a935debc",
   "metadata": {},
   "source": [
    "#### car name column can be dropped as it is already split into brand and model"
   ]
  },
  {
   "cell_type": "code",
   "execution_count": 5,
   "id": "4b070762-37ed-45ad-8f82-2200a918c4ac",
   "metadata": {},
   "outputs": [
    {
     "data": {
      "text/html": [
       "<div>\n",
       "<style scoped>\n",
       "    .dataframe tbody tr th:only-of-type {\n",
       "        vertical-align: middle;\n",
       "    }\n",
       "\n",
       "    .dataframe tbody tr th {\n",
       "        vertical-align: top;\n",
       "    }\n",
       "\n",
       "    .dataframe thead th {\n",
       "        text-align: right;\n",
       "    }\n",
       "</style>\n",
       "<table border=\"1\" class=\"dataframe\">\n",
       "  <thead>\n",
       "    <tr style=\"text-align: right;\">\n",
       "      <th></th>\n",
       "      <th>brand</th>\n",
       "      <th>model</th>\n",
       "      <th>vehicle_age</th>\n",
       "      <th>km_driven</th>\n",
       "      <th>seller_type</th>\n",
       "      <th>fuel_type</th>\n",
       "      <th>transmission_type</th>\n",
       "      <th>mileage</th>\n",
       "      <th>engine</th>\n",
       "      <th>max_power</th>\n",
       "      <th>seats</th>\n",
       "      <th>selling_price</th>\n",
       "    </tr>\n",
       "  </thead>\n",
       "  <tbody>\n",
       "    <tr>\n",
       "      <th>0</th>\n",
       "      <td>Maruti</td>\n",
       "      <td>Alto</td>\n",
       "      <td>9</td>\n",
       "      <td>120000</td>\n",
       "      <td>Individual</td>\n",
       "      <td>Petrol</td>\n",
       "      <td>Manual</td>\n",
       "      <td>19.70</td>\n",
       "      <td>796</td>\n",
       "      <td>46.30</td>\n",
       "      <td>5</td>\n",
       "      <td>120000</td>\n",
       "    </tr>\n",
       "    <tr>\n",
       "      <th>1</th>\n",
       "      <td>Hyundai</td>\n",
       "      <td>Grand</td>\n",
       "      <td>5</td>\n",
       "      <td>20000</td>\n",
       "      <td>Individual</td>\n",
       "      <td>Petrol</td>\n",
       "      <td>Manual</td>\n",
       "      <td>18.90</td>\n",
       "      <td>1197</td>\n",
       "      <td>82.00</td>\n",
       "      <td>5</td>\n",
       "      <td>550000</td>\n",
       "    </tr>\n",
       "    <tr>\n",
       "      <th>2</th>\n",
       "      <td>Hyundai</td>\n",
       "      <td>i20</td>\n",
       "      <td>11</td>\n",
       "      <td>60000</td>\n",
       "      <td>Individual</td>\n",
       "      <td>Petrol</td>\n",
       "      <td>Manual</td>\n",
       "      <td>17.00</td>\n",
       "      <td>1197</td>\n",
       "      <td>80.00</td>\n",
       "      <td>5</td>\n",
       "      <td>215000</td>\n",
       "    </tr>\n",
       "    <tr>\n",
       "      <th>3</th>\n",
       "      <td>Maruti</td>\n",
       "      <td>Alto</td>\n",
       "      <td>9</td>\n",
       "      <td>37000</td>\n",
       "      <td>Individual</td>\n",
       "      <td>Petrol</td>\n",
       "      <td>Manual</td>\n",
       "      <td>20.92</td>\n",
       "      <td>998</td>\n",
       "      <td>67.10</td>\n",
       "      <td>5</td>\n",
       "      <td>226000</td>\n",
       "    </tr>\n",
       "    <tr>\n",
       "      <th>4</th>\n",
       "      <td>Ford</td>\n",
       "      <td>Ecosport</td>\n",
       "      <td>6</td>\n",
       "      <td>30000</td>\n",
       "      <td>Dealer</td>\n",
       "      <td>Diesel</td>\n",
       "      <td>Manual</td>\n",
       "      <td>22.77</td>\n",
       "      <td>1498</td>\n",
       "      <td>98.59</td>\n",
       "      <td>5</td>\n",
       "      <td>570000</td>\n",
       "    </tr>\n",
       "  </tbody>\n",
       "</table>\n",
       "</div>"
      ],
      "text/plain": [
       "     brand     model  vehicle_age  km_driven seller_type fuel_type  \\\n",
       "0   Maruti      Alto            9     120000  Individual    Petrol   \n",
       "1  Hyundai     Grand            5      20000  Individual    Petrol   \n",
       "2  Hyundai       i20           11      60000  Individual    Petrol   \n",
       "3   Maruti      Alto            9      37000  Individual    Petrol   \n",
       "4     Ford  Ecosport            6      30000      Dealer    Diesel   \n",
       "\n",
       "  transmission_type  mileage  engine  max_power  seats  selling_price  \n",
       "0            Manual    19.70     796      46.30      5         120000  \n",
       "1            Manual    18.90    1197      82.00      5         550000  \n",
       "2            Manual    17.00    1197      80.00      5         215000  \n",
       "3            Manual    20.92     998      67.10      5         226000  \n",
       "4            Manual    22.77    1498      98.59      5         570000  "
      ]
     },
     "execution_count": 5,
     "metadata": {},
     "output_type": "execute_result"
    }
   ],
   "source": [
    "df.head()"
   ]
  },
  {
   "cell_type": "code",
   "execution_count": 44,
   "id": "d785a2f9",
   "metadata": {
    "tags": []
   },
   "outputs": [],
   "source": [
    "df.drop('car_name', axis=1, inplace=True)\n",
    "df.drop('Unnamed: 0', axis=1, inplace=True)"
   ]
  },
  {
   "cell_type": "markdown",
   "id": "66542de1",
   "metadata": {},
   "source": [
    "### Type of Features"
   ]
  },
  {
   "cell_type": "code",
   "execution_count": 6,
   "id": "6a79f87f-ff40-4990-993e-80c680cc987e",
   "metadata": {
    "tags": []
   },
   "outputs": [
    {
     "name": "stdout",
     "output_type": "stream",
     "text": [
      "<class 'pandas.core.frame.DataFrame'>\n",
      "RangeIndex: 15411 entries, 0 to 15410\n",
      "Data columns (total 12 columns):\n",
      " #   Column             Non-Null Count  Dtype  \n",
      "---  ------             --------------  -----  \n",
      " 0   brand              15411 non-null  object \n",
      " 1   model              15411 non-null  object \n",
      " 2   vehicle_age        15411 non-null  int64  \n",
      " 3   km_driven          15411 non-null  int64  \n",
      " 4   seller_type        15411 non-null  object \n",
      " 5   fuel_type          15411 non-null  object \n",
      " 6   transmission_type  15411 non-null  object \n",
      " 7   mileage            15411 non-null  float64\n",
      " 8   engine             15411 non-null  int64  \n",
      " 9   max_power          15411 non-null  float64\n",
      " 10  seats              15411 non-null  int64  \n",
      " 11  selling_price      15411 non-null  int64  \n",
      "dtypes: float64(2), int64(5), object(5)\n",
      "memory usage: 1.4+ MB\n"
     ]
    }
   ],
   "source": [
    "df.info()"
   ]
  },
  {
   "cell_type": "markdown",
   "id": "85df52e5",
   "metadata": {},
   "source": [
    "**Numeric Features**"
   ]
  },
  {
   "cell_type": "code",
   "execution_count": 7,
   "id": "baff199f",
   "metadata": {
    "tags": []
   },
   "outputs": [
    {
     "name": "stdout",
     "output_type": "stream",
     "text": [
      "Num of Numerical Features : 7\n"
     ]
    }
   ],
   "source": [
    "num_features = [feature for feature in df.columns if df[feature].dtype != 'O']\n",
    "print('Num of Numerical Features :', len(num_features))"
   ]
  },
  {
   "cell_type": "markdown",
   "id": "e1107060",
   "metadata": {},
   "source": [
    "**Categorical Features**"
   ]
  },
  {
   "cell_type": "code",
   "execution_count": 8,
   "id": "ff997805",
   "metadata": {
    "tags": []
   },
   "outputs": [
    {
     "name": "stdout",
     "output_type": "stream",
     "text": [
      "Num of Categorical Features : 5\n"
     ]
    }
   ],
   "source": [
    "cat_features = [feature for feature in df.columns if df[feature].dtype == 'O']\n",
    "print('Num of Categorical Features :', len(cat_features))"
   ]
  },
  {
   "cell_type": "markdown",
   "id": "3ca43676",
   "metadata": {},
   "source": [
    "**Discrete Features**"
   ]
  },
  {
   "cell_type": "code",
   "execution_count": 10,
   "id": "812ee6e0",
   "metadata": {
    "tags": []
   },
   "outputs": [
    {
     "name": "stdout",
     "output_type": "stream",
     "text": [
      "Num of Discrete Features : 2\n"
     ]
    },
    {
     "data": {
      "text/plain": [
       "['vehicle_age', 'seats']"
      ]
     },
     "execution_count": 10,
     "metadata": {},
     "output_type": "execute_result"
    }
   ],
   "source": [
    "discrete_features=[feature for feature in num_features if len(df[feature].unique())<=25]\n",
    "print('Num of Discrete Features :',len(discrete_features))\n",
    "discrete_features"
   ]
  },
  {
   "cell_type": "markdown",
   "id": "3e6740bf",
   "metadata": {},
   "source": [
    "**Continues Features**"
   ]
  },
  {
   "cell_type": "code",
   "execution_count": 11,
   "id": "e501c72b",
   "metadata": {
    "tags": []
   },
   "outputs": [
    {
     "name": "stdout",
     "output_type": "stream",
     "text": [
      "Num of Continuous Features : 5\n"
     ]
    }
   ],
   "source": [
    "continuous_features=[feature for feature in num_features if feature not in discrete_features]\n",
    "print('Num of Continuous Features :',len(continuous_features))"
   ]
  },
  {
   "cell_type": "markdown",
   "id": "7a9c40c8",
   "metadata": {},
   "source": [
    "### Multicollinearity Check\n",
    "#### Correllation Heatmap"
   ]
  },
  {
   "cell_type": "code",
   "execution_count": 14,
   "id": "f6ebeaea",
   "metadata": {
    "tags": []
   },
   "outputs": [
    {
     "data": {
      "image/png": "[encoded data removed]",
      "text/plain": [
       "<Figure size 1500x1000 with 2 Axes>"
      ]
     },
     "metadata": {},
     "output_type": "display_data"
    }
   ],
   "source": [
    "plt.figure(figsize = (15,10))\n",
    "sns.heatmap(df.corr(numeric_only=True) , cmap=\"CMRmap_r\", annot=True, mask= np.triu(df.corr(numeric_only=True), k=1))\n",
    "plt.show()"
   ]
  },
  {
   "cell_type": "code",
   "execution_count": null,
   "id": "69fc9144-0093-4358-9983-b40e4dc64461",
   "metadata": {},
   "outputs": [],
   "source": []
  },
  {
   "cell_type": "code",
   "execution_count": null,
   "id": "7b30dce1-6021-4dbb-937e-76c31201e8d3",
   "metadata": {},
   "outputs": [],
   "source": []
  },
  {
   "cell_type": "markdown",
   "id": "df09f4a4",
   "metadata": {},
   "source": [
    "**Report** \n",
    "* Max power and Engine cc are highly correlated.\n",
    "* We can check Vif to remove any highly correlated independent features."
   ]
  },
  {
   "cell_type": "markdown",
   "id": "a5ad69d6",
   "metadata": {},
   "source": [
    "#### Variance Inflation Factor (VIF)"
   ]
  },
  {
   "cell_type": "markdown",
   "id": "bcc04f4d",
   "metadata": {},
   "source": [
    "* Multicollinearity occurs when there are two or more independent variables in a multiple regression model, which have a high correlation among themselves. When some features are highly correlated.\n",
    "* Multicollinearity can be detected using various techniques, one such technique being the Variance Inflation Factor(VIF)."
   ]
  },
  {
   "cell_type": "code",
   "execution_count": 15,
   "id": "747d9a82",
   "metadata": {
    "tags": []
   },
   "outputs": [],
   "source": [
    "from statsmodels.stats.outliers_influence import variance_inflation_factor\n",
    "def compute_vif(considered_features, df):\n",
    "    \n",
    "    X = df[considered_features]\n",
    "    # the calculation of variance inflation requires a constant\n",
    "    X['intercept'] = 1\n",
    "    \n",
    "    # create dataframe to store vif values\n",
    "    vif = pd.DataFrame()\n",
    "    vif[\"Variable\"] = X.columns\n",
    "    vif[\"VIF\"] = [variance_inflation_factor(X.values, i) for i in range(X.shape[1])]\n",
    "    vif = vif[vif['Variable']!='intercept']\n",
    "    return vif"
   ]
  },
  {
   "cell_type": "code",
   "execution_count": 17,
   "id": "a9509481",
   "metadata": {
    "tags": []
   },
   "outputs": [
    {
     "data": {
      "text/html": [
       "<div>\n",
       "<style scoped>\n",
       "    .dataframe tbody tr th:only-of-type {\n",
       "        vertical-align: middle;\n",
       "    }\n",
       "\n",
       "    .dataframe tbody tr th {\n",
       "        vertical-align: top;\n",
       "    }\n",
       "\n",
       "    .dataframe thead th {\n",
       "        text-align: right;\n",
       "    }\n",
       "</style>\n",
       "<table border=\"1\" class=\"dataframe\">\n",
       "  <thead>\n",
       "    <tr style=\"text-align: right;\">\n",
       "      <th></th>\n",
       "      <th>Variable</th>\n",
       "      <th>VIF</th>\n",
       "    </tr>\n",
       "  </thead>\n",
       "  <tbody>\n",
       "    <tr>\n",
       "      <th>0</th>\n",
       "      <td>vehicle_age</td>\n",
       "      <td>1.406352</td>\n",
       "    </tr>\n",
       "    <tr>\n",
       "      <th>1</th>\n",
       "      <td>km_driven</td>\n",
       "      <td>1.212640</td>\n",
       "    </tr>\n",
       "    <tr>\n",
       "      <th>2</th>\n",
       "      <td>mileage</td>\n",
       "      <td>1.945103</td>\n",
       "    </tr>\n",
       "    <tr>\n",
       "      <th>3</th>\n",
       "      <td>engine</td>\n",
       "      <td>6.244006</td>\n",
       "    </tr>\n",
       "    <tr>\n",
       "      <th>4</th>\n",
       "      <td>max_power</td>\n",
       "      <td>5.952622</td>\n",
       "    </tr>\n",
       "    <tr>\n",
       "      <th>5</th>\n",
       "      <td>seats</td>\n",
       "      <td>2.245733</td>\n",
       "    </tr>\n",
       "    <tr>\n",
       "      <th>6</th>\n",
       "      <td>selling_price</td>\n",
       "      <td>2.680638</td>\n",
       "    </tr>\n",
       "  </tbody>\n",
       "</table>\n",
       "</div>"
      ],
      "text/plain": [
       "        Variable       VIF\n",
       "0    vehicle_age  1.406352\n",
       "1      km_driven  1.212640\n",
       "2        mileage  1.945103\n",
       "3         engine  6.244006\n",
       "4      max_power  5.952622\n",
       "5          seats  2.245733\n",
       "6  selling_price  2.680638"
      ]
     },
     "execution_count": 17,
     "metadata": {},
     "output_type": "execute_result"
    }
   ],
   "source": [
    "compute_vif(num_features, df)"
   ]
  },
  {
   "cell_type": "markdown",
   "id": "482cfb4c",
   "metadata": {},
   "source": [
    " ” VIF determines the strength of the correlation between the independent variables. It is predicted by taking a variable and regressing it against every other variable “ \n",
    " \n",
    "**- This Dataset Doesnt have any MultiCollinearity**"
   ]
  },
  {
   "cell_type": "code",
   "execution_count": 18,
   "id": "f3c49115",
   "metadata": {
    "tags": []
   },
   "outputs": [
    {
     "name": "stdout",
     "output_type": "stream",
     "text": [
      "Variance Inflation Factor of vehicle_age column is 1.34 \n",
      "\n",
      "Variance Inflation Factor of km_driven column is 1.24 \n",
      "\n",
      "Variance Inflation Factor of mileage column is 1.54 \n",
      "\n",
      "Variance Inflation Factor of engine column is 2.41 \n",
      "\n",
      "Variance Inflation Factor of max_power column is 3.13 \n",
      "\n",
      "Variance Inflation Factor of seats column is 1.77 \n",
      "\n"
     ]
    }
   ],
   "source": [
    "import statsmodels.api as sm\n",
    "num_features = df.select_dtypes(exclude=\"object\").columns\n",
    "for i in range(0, len(num_features)-1):\n",
    "    x = df.loc[:, df.columns == num_features[i]]\n",
    "    y = df.selling_price\n",
    "    model = sm.OLS(x,y)\n",
    "    results = model.fit()\n",
    "    rsq = results.rsquared\n",
    "    vif = round(1 / (1 - rsq), 2)\n",
    "    print(\n",
    "        \"Variance Inflation Factor of {} column is {} \\n\".format(\n",
    "            num_features[i], vif)\n",
    "        )"
   ]
  },
  {
   "cell_type": "markdown",
   "id": "d234a954",
   "metadata": {},
   "source": [
    "### Check Outlier and Capping it"
   ]
  },
  {
   "cell_type": "markdown",
   "id": "29b1ab3b",
   "metadata": {},
   "source": [
    "**Why outliers?**\n",
    "* Data Entry error : Human error. \n",
    "* Measurement error: Instrument error. \n",
    "* Natural error: it will be Real life data.\n",
    "* Intentional error: People give wrong inputs\n",
    "\n",
    "**Impact of Outliers ?**\n",
    "* Ouliers can very high impact on few Machine learning models.\n",
    "* Can Cause bias in the output."
   ]
  },
  {
   "cell_type": "markdown",
   "id": "b2c78731",
   "metadata": {},
   "source": [
    "**Why IQR For Outlier Handling?**\n",
    "* For Skewed distributions: Use Inter-Quartile Range (IQR) proximity rule.\n",
    "\n",
    "* The data points which fall below Q1 – 1.5 IQR or above Q3 + 1.5 IQR are outliers.\n",
    "\n",
    "* where Q1 and Q3 are the 25th and 75th percentile of the dataset respectively, and IQR represents the inter-quartile range and given by Q3 – Q1."
   ]
  },
  {
   "cell_type": "code",
   "execution_count": 34,
   "id": "8e580ec1",
   "metadata": {
    "tags": []
   },
   "outputs": [
    {
     "data": {
      "image/png": "[encoded data removed]",
      "text/plain": [
       "<Figure size 1000x600 with 1 Axes>"
      ]
     },
     "metadata": {},
     "output_type": "display_data"
    },
    {
     "data": {
      "image/png": "[encoded data removed]",
      "text/plain": [
       "<Figure size 1000x600 with 1 Axes>"
      ]
     },
     "metadata": {},
     "output_type": "display_data"
    },
    {
     "data": {
      "image/png": "[encoded data removed]",
      "text/plain": [
       "<Figure size 1000x600 with 1 Axes>"
      ]
     },
     "metadata": {},
     "output_type": "display_data"
    },
    {
     "data": {
      "image/png": "[encoded data removed]",
      "text/plain": [
       "<Figure size 1000x600 with 1 Axes>"
      ]
     },
     "metadata": {},
     "output_type": "display_data"
    },
    {
     "data": {
      "image/png": "[encoded data removed]",
      "text/plain": [
       "<Figure size 1000x600 with 1 Axes>"
      ]
     },
     "metadata": {},
     "output_type": "display_data"
    }
   ],
   "source": [
    "j=1\n",
    "for i in continuous_features:\n",
    "        #plt.subplots(2,3,j)\n",
    "        j+=1\n",
    "        plt.figure(figsize=(10,6))\n",
    "        sns.set_style('ticks')\n",
    "        ax = sns.boxplot(df[i])"
   ]
  },
  {
   "cell_type": "code",
   "execution_count": 37,
   "id": "555ad9f1-e480-4fbe-b838-599ee5888fce",
   "metadata": {},
   "outputs": [
    {
     "data": {
      "image/png": "[encoded data removed]",
      "text/plain": [
       "<Figure size 1000x1200 with 8 Axes>"
      ]
     },
     "metadata": {},
     "output_type": "display_data"
    }
   ],
   "source": [
    "fig, ax = plt.subplots(4, 2, figsize=(10, 12))\n",
    "ax = ax.flatten()[:len(continuous_features)]\n",
    "for feature, axis in zip(continuous_features, ax):\n",
    "    sns.boxplot(data=df, x=feature, ax=axis)\n",
    "\n",
    "plt.tight_layout()\n",
    "plt.show()"
   ]
  },
  {
   "cell_type": "markdown",
   "id": "6770c24d",
   "metadata": {},
   "source": [
    "**Detecting Outlier and Capping it**"
   ]
  },
  {
   "cell_type": "code",
   "execution_count": 38,
   "id": "6ec840e1",
   "metadata": {
    "tags": []
   },
   "outputs": [],
   "source": [
    "def detect_outliers(col):\n",
    "    # Finding the IQR\n",
    "    percentile25 = df[col].quantile(0.25)\n",
    "    percentile75 = df[col].quantile(0.75)\n",
    "    print('\\n ####', col , '####')\n",
    "    print(\"percentile25\",percentile25)\n",
    "    print(\"percentile75\",percentile75)\n",
    "    iqr = percentile75 - percentile25\n",
    "    upper_limit = percentile75 + 1.5 * iqr\n",
    "    lower_limit = percentile25 - 1.5 * iqr\n",
    "    print(\"Upper limit\",upper_limit)\n",
    "    print(\"Lower limit\",lower_limit)\n",
    "    df.loc[(df[col]>upper_limit), col]= upper_limit\n",
    "    df.loc[(df[col]<lower_limit), col]= lower_limit    \n",
    "    return df\n",
    "\n",
    "\n",
    "# df_capped\n",
    "# df_trimmed\n",
    "# df_mvt\n",
    "# df_unhandled\n"
   ]
  },
  {
   "cell_type": "markdown",
   "id": "b1ec524f",
   "metadata": {},
   "source": [
    "**Why are we capping it and why not trim it ?**\n",
    "* Trimming outliers may result in the removal of a large number of records from this dataset as we have already very less rows so this isn’t desirable in this case since columns other than the ones containing the outlier values may contain useful information.\n",
    "\n",
    "* In this cases, you can use outlier capping to replace the outlier values with a maximum or minimum capped values. Be warned, this manipulates our data but we can replace outlier values by the upper and lower limit calculated using the IQR range."
   ]
  },
  {
   "cell_type": "code",
   "execution_count": 39,
   "id": "1236741e",
   "metadata": {
    "tags": []
   },
   "outputs": [
    {
     "name": "stdout",
     "output_type": "stream",
     "text": [
      "\n",
      " #### km_driven ####\n",
      "percentile25 30000.0\n",
      "percentile75 70000.0\n",
      "Upper limit 130000.0\n",
      "Lower limit -30000.0\n",
      "\n",
      " #### mileage ####\n",
      "percentile25 17.0\n",
      "percentile75 22.7\n",
      "Upper limit 31.25\n",
      "Lower limit 8.450000000000001\n",
      "\n",
      " #### engine ####\n",
      "percentile25 1197.0\n",
      "percentile75 1582.0\n",
      "Upper limit 2159.5\n",
      "Lower limit 619.5\n",
      "\n",
      " #### max_power ####\n",
      "percentile25 74.0\n",
      "percentile75 117.3\n",
      "Upper limit 182.25\n",
      "Lower limit 9.050000000000011\n",
      "\n",
      " #### selling_price ####\n",
      "percentile25 385000.0\n",
      "percentile75 825000.0\n",
      "Upper limit 1485000.0\n",
      "Lower limit -275000.0\n"
     ]
    }
   ],
   "source": [
    "for col in continuous_features:\n",
    "         detect_outliers(col)"
   ]
  },
  {
   "cell_type": "markdown",
   "id": "a890a255",
   "metadata": {},
   "source": [
    "**Checking Skewness after Outlier Capping**"
   ]
  },
  {
   "cell_type": "code",
   "execution_count": 41,
   "id": "4038a207",
   "metadata": {
    "tags": []
   },
   "outputs": [
    {
     "data": {
      "text/plain": [
       "km_driven         61.743706\n",
       "mileage            6.793953\n",
       "engine            68.409583\n",
       "max_power        106.722920\n",
       "selling_price     96.883567\n",
       "dtype: float64"
      ]
     },
     "execution_count": 41,
     "metadata": {},
     "output_type": "execute_result"
    }
   ],
   "source": [
    "df[continuous_features].skew(axis=0, skipna=True)*100"
   ]
  },
  {
   "cell_type": "markdown",
   "id": "ca2d817d",
   "metadata": {},
   "source": [
    "## Feature Transformation"
   ]
  },
  {
   "cell_type": "code",
   "execution_count": 46,
   "id": "b19e13a0-3c35-45af-b43b-547ed8a5aa71",
   "metadata": {},
   "outputs": [
    {
     "data": {
      "text/plain": [
       "km_driven        2817.271087\n",
       "mileage            10.496103\n",
       "engine            166.646663\n",
       "max_power         248.512943\n",
       "selling_price    1004.704798\n",
       "dtype: float64"
      ]
     },
     "execution_count": 46,
     "metadata": {},
     "output_type": "execute_result"
    }
   ],
   "source": [
    "df2[continuous_features].skew(axis=0, skipna=True)*100"
   ]
  },
  {
   "cell_type": "code",
   "execution_count": 45,
   "id": "b0f23566-465a-4c1b-b8eb-b9833d682bdc",
   "metadata": {},
   "outputs": [
    {
     "data": {
      "image/png": "[encoded data removed]",
      "text/plain": [
       "<Figure size 1200x800 with 5 Axes>"
      ]
     },
     "metadata": {},
     "output_type": "display_data"
    }
   ],
   "source": [
    "# distribution of data before scaling before removing outliers\n",
    "plt.figure(figsize=(12, 8))\n",
    "for i, col in enumerate(['km_driven', 'mileage', 'engine', 'max_power', 'selling_price']):\n",
    "    plt.subplot(3, 2, i+1)\n",
    "    sns.kdeplot(x=df2[col], color='indianred')\n",
    "    plt.xlabel(col)\n",
    "    plt.tight_layout()"
   ]
  },
  {
   "cell_type": "code",
   "execution_count": 42,
   "id": "a921c3a0",
   "metadata": {
    "tags": []
   },
   "outputs": [
    {
     "data": {
      "image/png": "[encoded data removed]",
      "text/plain": [
       "<Figure size 1200x800 with 5 Axes>"
      ]
     },
     "metadata": {},
     "output_type": "display_data"
    }
   ],
   "source": [
    "# distribution of data before scaling\n",
    "plt.figure(figsize=(12, 8))\n",
    "for i, col in enumerate(['km_driven', 'mileage', 'engine', 'max_power', 'selling_price']):\n",
    "    plt.subplot(3, 2, i+1)\n",
    "    sns.kdeplot(x=df[col], color='indianred')\n",
    "    plt.xlabel(col)\n",
    "    plt.tight_layout()"
   ]
  },
  {
   "cell_type": "markdown",
   "id": "1786c0ad",
   "metadata": {},
   "source": [
    "* After Capping Outlier it is all column's distribution is Normal so transformation is not required."
   ]
  },
  {
   "cell_type": "code",
   "execution_count": null,
   "id": "a45aa3d1",
   "metadata": {
    "tags": []
   },
   "outputs": [],
   "source": [
    "sns.pairplot(data=df)"
   ]
  },
  {
   "cell_type": "markdown",
   "id": "5a2cf140",
   "metadata": {},
   "source": [
    "### Split X and Y"
   ]
  },
  {
   "cell_type": "code",
   "execution_count": 21,
   "id": "606bd5ec",
   "metadata": {
    "tags": []
   },
   "outputs": [],
   "source": [
    "from sklearn.model_selection import train_test_split\n",
    "X = df.drop(['selling_price'], axis=1)\n",
    "y = df['selling_price']"
   ]
  },
  {
   "cell_type": "markdown",
   "id": "9455c01a",
   "metadata": {},
   "source": [
    "* **Split Dataframe to X and y**\n",
    "* **Here we set a variable X i.e, independent columns, and a variable y i.e, dependent column as the “ProdTaken” column.**\n"
   ]
  },
  {
   "cell_type": "markdown",
   "id": "3c1d7480",
   "metadata": {},
   "source": [
    "### Feature Selection"
   ]
  },
  {
   "cell_type": "code",
   "execution_count": 22,
   "id": "00e06fc4",
   "metadata": {
    "tags": []
   },
   "outputs": [
    {
     "name": "stdout",
     "output_type": "stream",
     "text": [
      "brand : 32\n",
      "model : 120\n",
      "seller_type : 3\n",
      "fuel_type : 5\n",
      "transmission_type : 2\n"
     ]
    }
   ],
   "source": [
    "for feature in cat_features:\n",
    "    print(feature,':', X[feature].nunique())"
   ]
  },
  {
   "cell_type": "markdown",
   "id": "965e0379",
   "metadata": {},
   "source": [
    "#### Keeping top and most frequent brands and making less frequency brands as Others"
   ]
  },
  {
   "cell_type": "code",
   "execution_count": 23,
   "id": "5876278d",
   "metadata": {
    "tags": []
   },
   "outputs": [],
   "source": [
    "brand= X.brand.value_counts().head(15)\n",
    "for i in range(df.shape[0]):\n",
    "    if X['brand'].iloc[i] in brand:\n",
    "         continue\n",
    "    else:\n",
    "        X['brand'].iloc[i] = 'Others'"
   ]
  },
  {
   "cell_type": "markdown",
   "id": "51a3853d",
   "metadata": {},
   "source": [
    "## Feature Encoding and Scaling"
   ]
  },
  {
   "cell_type": "markdown",
   "id": "29dbaf2d",
   "metadata": {},
   "source": [
    "**One Hot Encoding for Columns which had lesser unique values and not ordinal**\n",
    "* One hot encoding is a process by which categorical variables are converted into a form that could be provided to ML algorithms to do a better job in prediction.\n",
    "\n",
    "**Binary Encoder**\n",
    "* To fight the curse of dimensionality, binary encoding might be a good alternative to one-hot encoding because it creates fewer columns when encoding categorical variables."
   ]
  },
  {
   "cell_type": "code",
   "execution_count": 24,
   "id": "348ccd3f",
   "metadata": {
    "tags": []
   },
   "outputs": [],
   "source": [
    "# Create Column Transformer with 3 types of transformers\n",
    "num_features = X.select_dtypes(exclude=\"object\").columns\n",
    "onehot_columns = ['seller_type','fuel_type','transmission_type']\n",
    "binary_columns = ['brand', 'model']\n",
    "\n",
    "from sklearn.preprocessing import OneHotEncoder, StandardScaler\n",
    "from category_encoders.binary import BinaryEncoder\n",
    "from sklearn.compose import ColumnTransformer\n",
    "\n",
    "numeric_transformer = StandardScaler()\n",
    "oh_transformer = OneHotEncoder()\n",
    "binary_transformer = BinaryEncoder()\n",
    "\n",
    "preprocessor = ColumnTransformer(\n",
    "    [\n",
    "        (\"OneHotEncoder\", oh_transformer, onehot_columns),\n",
    "         (\"StandardScaler\", numeric_transformer, num_features),\n",
    "        (\"BinaryEncoder\", binary_transformer, binary_columns)\n",
    "        \n",
    "    ]\n",
    ")"
   ]
  },
  {
   "cell_type": "code",
   "execution_count": 26,
   "id": "073fea39",
   "metadata": {
    "tags": []
   },
   "outputs": [],
   "source": [
    "X= preprocessor.fit_transform(X)"
   ]
  },
  {
   "cell_type": "markdown",
   "id": "91bcc975",
   "metadata": {},
   "source": [
    "## Train Test Split"
   ]
  },
  {
   "cell_type": "markdown",
   "id": "dbdad979",
   "metadata": {},
   "source": [
    "* The train-test split procedure is used to estimate the performance of machine learning algorithms when they are used to make predictions on data not used to train the model.\n",
    "\n",
    "* It is a fast and easy procedure to perform, the results of which allow you to compare the performance of machine learning algorithms."
   ]
  },
  {
   "cell_type": "code",
   "execution_count": 27,
   "id": "1531b2c6",
   "metadata": {
    "tags": []
   },
   "outputs": [
    {
     "data": {
      "text/plain": [
       "((12328, 28), (3083, 28))"
      ]
     },
     "execution_count": 27,
     "metadata": {},
     "output_type": "execute_result"
    }
   ],
   "source": [
    "# separate dataset into train and test\n",
    "X_train, X_test, y_train, y_test = train_test_split(X,y,test_size=0.2,random_state=42)\n",
    "X_train.shape, X_test.shape"
   ]
  },
  {
   "cell_type": "markdown",
   "id": "d81b9eaa",
   "metadata": {},
   "source": [
    "## Model Selection\n",
    "* **Here should understand the Various Regression models with default values from these models we can choose top 4 with Highest Accuracy score and proceed with HyperParameter Tuning**"
   ]
  },
  {
   "cell_type": "markdown",
   "id": "8b9e9fab",
   "metadata": {},
   "source": [
    "**Import Required packages for model training**"
   ]
  },
  {
   "cell_type": "code",
   "execution_count": 28,
   "id": "d82663ae",
   "metadata": {
    "tags": []
   },
   "outputs": [],
   "source": [
    "from sklearn.metrics import mean_squared_error, r2_score\n",
    "from sklearn.neighbors import KNeighborsRegressor\n",
    "from sklearn.tree import DecisionTreeRegressor\n",
    "from sklearn.ensemble import RandomForestRegressor,AdaBoostRegressor\n",
    "from sklearn.svm import SVR\n",
    "from sklearn.linear_model import LinearRegression, Ridge,Lasso\n",
    "from sklearn.metrics import  mean_absolute_error\n",
    "from sklearn.model_selection import RandomizedSearchCV\n",
    "from catboost import CatBoostRegressor\n",
    "from xgboost import XGBRegressor"
   ]
  },
  {
   "cell_type": "markdown",
   "id": "7aca3c34",
   "metadata": {},
   "source": [
    "#### Create a Function to Evaluate Model"
   ]
  },
  {
   "cell_type": "code",
   "execution_count": 30,
   "id": "cae770cd",
   "metadata": {
    "tags": []
   },
   "outputs": [],
   "source": [
    "def evaluate_model(true, predicted):\n",
    "    mae = mean_absolute_error(true, predicted)\n",
    "    mse = mean_squared_error(true, predicted)\n",
    "    rmse = np.sqrt(mean_squared_error(true, predicted))\n",
    "    r2_square = r2_score(true, predicted)\n",
    "    return mae, rmse, r2_square"
   ]
  },
  {
   "cell_type": "code",
   "execution_count": 31,
   "id": "6407432b",
   "metadata": {
    "tags": []
   },
   "outputs": [
    {
     "name": "stdout",
     "output_type": "stream",
     "text": [
      "Linear Regression\n",
      "Model performance for Training set\n",
      "- Root Mean Squared Error: 141963.1023\n",
      "- Mean Absolute Error: 107517.2953\n",
      "- R2 Score: 0.8525\n",
      "----------------------------------\n",
      "Model performance for Test set\n",
      "- Root Mean Squared Error: 147716.9534\n",
      "- Mean Absolute Error: 112780.7522\n",
      "- R2 Score: 0.8505\n",
      "===================================\n",
      "\n",
      "\n",
      "Lasso\n",
      "Model performance for Training set\n",
      "- Root Mean Squared Error: 141937.7122\n",
      "- Mean Absolute Error: 107498.1354\n",
      "- R2 Score: 0.8525\n",
      "----------------------------------\n",
      "Model performance for Test set\n",
      "- Root Mean Squared Error: 147728.2550\n",
      "- Mean Absolute Error: 112790.8417\n",
      "- R2 Score: 0.8504\n",
      "===================================\n",
      "\n",
      "\n",
      "Ridge\n",
      "Model performance for Training set\n",
      "- Root Mean Squared Error: 141938.8407\n",
      "- Mean Absolute Error: 107508.7310\n",
      "- R2 Score: 0.8525\n",
      "----------------------------------\n",
      "Model performance for Test set\n",
      "- Root Mean Squared Error: 147730.9842\n",
      "- Mean Absolute Error: 112804.6485\n",
      "- R2 Score: 0.8504\n",
      "===================================\n",
      "\n",
      "\n",
      "K-Neighbors Regressor\n",
      "Model performance for Training set\n",
      "- Root Mean Squared Error: 80173.0849\n",
      "- Mean Absolute Error: 54113.3030\n",
      "- R2 Score: 0.9529\n",
      "----------------------------------\n",
      "Model performance for Test set\n",
      "- Root Mean Squared Error: 100919.7647\n",
      "- Mean Absolute Error: 67927.8381\n",
      "- R2 Score: 0.9302\n",
      "===================================\n",
      "\n",
      "\n",
      "Decision Tree\n",
      "Model performance for Training set\n",
      "- Root Mean Squared Error: 19892.7304\n",
      "- Mean Absolute Error: 5386.6533\n",
      "- R2 Score: 0.9971\n",
      "----------------------------------\n",
      "Model performance for Test set\n",
      "- Root Mean Squared Error: 121054.1384\n",
      "- Mean Absolute Error: 78500.6947\n",
      "- R2 Score: 0.8996\n",
      "===================================\n",
      "\n",
      "\n",
      "Random Forest Regressor\n",
      "Model performance for Training set\n",
      "- Root Mean Squared Error: 38579.5712\n",
      "- Mean Absolute Error: 25899.7209\n",
      "- R2 Score: 0.9891\n",
      "----------------------------------\n",
      "Model performance for Test set\n",
      "- Root Mean Squared Error: 97201.8478\n",
      "- Mean Absolute Error: 65158.7119\n",
      "- R2 Score: 0.9352\n",
      "===================================\n",
      "\n",
      "\n",
      "XGBRegressor\n",
      "Model performance for Training set\n",
      "- Root Mean Squared Error: 63147.1804\n",
      "- Mean Absolute Error: 46128.7496\n",
      "- R2 Score: 0.9708\n",
      "----------------------------------\n",
      "Model performance for Test set\n",
      "- Root Mean Squared Error: 92219.3020\n",
      "- Mean Absolute Error: 63051.5957\n",
      "- R2 Score: 0.9417\n",
      "===================================\n",
      "\n",
      "\n",
      "CatBoosting Regressor\n",
      "Model performance for Training set\n",
      "- Root Mean Squared Error: 73469.8473\n",
      "- Mean Absolute Error: 53772.0738\n",
      "- R2 Score: 0.9605\n",
      "----------------------------------\n",
      "Model performance for Test set\n",
      "- Root Mean Squared Error: 89229.8405\n",
      "- Mean Absolute Error: 62198.3694\n",
      "- R2 Score: 0.9454\n",
      "===================================\n",
      "\n",
      "\n",
      "AdaBoost Regressor\n",
      "Model performance for Training set\n",
      "- Root Mean Squared Error: 160971.2938\n",
      "- Mean Absolute Error: 133671.1350\n",
      "- R2 Score: 0.8103\n",
      "----------------------------------\n",
      "Model performance for Test set\n",
      "- Root Mean Squared Error: 168791.3110\n",
      "- Mean Absolute Error: 138523.1706\n",
      "- R2 Score: 0.8047\n",
      "===================================\n",
      "\n",
      "\n"
     ]
    }
   ],
   "source": [
    "models = {\n",
    "    \"Linear Regression\": LinearRegression(),\n",
    "    \"Lasso\": Lasso(),\n",
    "    \"Ridge\": Ridge(),\n",
    "    \"K-Neighbors Regressor\": KNeighborsRegressor(),\n",
    "    \"Decision Tree\": DecisionTreeRegressor(),\n",
    "    \"Random Forest Regressor\": RandomForestRegressor(),\n",
    "    \"XGBRegressor\": XGBRegressor(), \n",
    "    \"CatBoosting Regressor\": CatBoostRegressor(verbose=False),\n",
    "    \"AdaBoost Regressor\": AdaBoostRegressor()\n",
    "}\n",
    "\n",
    "for i in range(len(list(models))):\n",
    "    model = list(models.values())[i]\n",
    "    model.fit(X_train, y_train) # Train model\n",
    "\n",
    "    # Make predictions\n",
    "    y_train_pred = model.predict(X_train) # Overfitting calculation\n",
    "    y_test_pred = model.predict(X_test)\n",
    "    \n",
    "    # Evaluate Train and Test dataset\n",
    "    model_train_mae , model_train_rmse, model_train_r2 = evaluate_model(y_train, y_train_pred)\n",
    "\n",
    "    model_test_mae , model_test_rmse, model_test_r2 = evaluate_model(y_test, y_test_pred)\n",
    "\n",
    "    \n",
    "    print(list(models.keys())[i])\n",
    "    \n",
    "    print('Model performance for Training set')\n",
    "    print(\"- Root Mean Squared Error: {:.4f}\".format(model_train_rmse))\n",
    "    print(\"- Mean Absolute Error: {:.4f}\".format(model_train_mae))\n",
    "    print(\"- R2 Score: {:.4f}\".format(model_train_r2))\n",
    "\n",
    "    print('----------------------------------')\n",
    "    \n",
    "    print('Model performance for Test set')\n",
    "    print(\"- Root Mean Squared Error: {:.4f}\".format(model_test_rmse))\n",
    "    print(\"- Mean Absolute Error: {:.4f}\".format(model_test_mae))\n",
    "    print(\"- R2 Score: {:.4f}\".format(model_test_r2))\n",
    "    \n",
    "    print('='*35)\n",
    "    print('\\n')"
   ]
  },
  {
   "cell_type": "markdown",
   "id": "8ac46818",
   "metadata": {},
   "source": [
    "**Results of All Models**"
   ]
  },
  {
   "cell_type": "markdown",
   "id": "e732b1ba",
   "metadata": {},
   "source": [
    "| Model Name      | R2 Score |\n",
    "| ----------- | ----------- |\n",
    "| CatBoost Regressor   | 0.9454        |\n",
    "|XGBRegressor   | 0.9408        |\n",
    "| Random Forest | 0.9348       |\n",
    "| K-Neighbors Regressor   | 0.9303        |\n",
    "| Gradient Boosting   | 0.9132        |\n",
    "| Decision Tree Regressor  | 0.9012        |\n",
    "| AdaBoost Regressor   | 0.8714        |\n",
    "| Linear Regression   | 0.8505        |\n",
    "| Ridge Regression   | 0.8504        |\n",
    "| Lasso Regression   | 0.8504        |"
   ]
  },
  {
   "cell_type": "markdown",
   "id": "f3534db9",
   "metadata": {},
   "source": [
    "**Here we can use Random Forest , XGBoost Regressor, CatBoost Regressor and K-Neighbours Regressor for Hyper Parameter Tuning**"
   ]
  },
  {
   "cell_type": "code",
   "execution_count": 32,
   "id": "893c4b00",
   "metadata": {
    "tags": []
   },
   "outputs": [],
   "source": [
    "#Initialize few parameter for Hyperparamter tuning\n",
    "knn_params = {\"n_neighbors\": [2, 3, 10, 20, 40, 50]}\n",
    "\n",
    "rf_params = {\"max_depth\": [5, 8, 15, None, 10],\n",
    "             \"max_features\": [5, 7, \"auto\", 8],\n",
    "             \"min_samples_split\": [2, 8, 15, 20],\n",
    "             \"n_estimators\": [100, 200, 500, 1000]}\n",
    "\n",
    "xgboost_params = {\"learning_rate\": [0.1, 0.01],\n",
    "                  \"max_depth\": [5, 8, 12, 20, 30],\n",
    "                  \"n_estimators\": [100, 200, 300],\n",
    "                  \"colsample_bytree\": [0.5, 0.8, 1, 0.3, 0.4]}\n",
    "\n",
    "cat_params = {\"learning_rate\": [0.1, 0.01, 0.06, 0.05],\n",
    "              \"max_depth\": [6, 8, 12, 20, 30]}"
   ]
  },
  {
   "cell_type": "code",
   "execution_count": 33,
   "id": "a46028bd",
   "metadata": {
    "tags": []
   },
   "outputs": [],
   "source": [
    "# Models list for Hyperparameter tuning\n",
    "randomcv_models = [('KNN', KNeighborsRegressor(), knn_params),\n",
    "                   (\"RF\", RandomForestRegressor(), rf_params),\n",
    "                   ('XGBoost', XGBRegressor(), xgboost_params),\n",
    "                   ('CatBoost', CatBoostRegressor(verbose=False), cat_params)\n",
    "                   ]"
   ]
  },
  {
   "cell_type": "code",
   "execution_count": 34,
   "id": "0dc8830b",
   "metadata": {
    "tags": []
   },
   "outputs": [
    {
     "name": "stdout",
     "output_type": "stream",
     "text": [
      "Fitting 3 folds for each of 6 candidates, totalling 18 fits\n",
      "Fitting 3 folds for each of 100 candidates, totalling 300 fits\n"
     ]
    },
    {
     "name": "stderr",
     "output_type": "stream",
     "text": [
      "/Users/admin/anaconda3/lib/python3.11/site-packages/sklearn/ensemble/_forest.py:413: FutureWarning: `max_features='auto'` has been deprecated in 1.1 and will be removed in 1.3. To keep the past behaviour, explicitly set `max_features=1.0` or remove this parameter as it is also the default value for RandomForestRegressors and ExtraTreesRegressors.\n",
      "  warn(\n",
      "/Users/admin/anaconda3/lib/python3.11/site-packages/sklearn/ensemble/_forest.py:413: FutureWarning: `max_features='auto'` has been deprecated in 1.1 and will be removed in 1.3. To keep the past behaviour, explicitly set `max_features=1.0` or remove this parameter as it is also the default value for RandomForestRegressors and ExtraTreesRegressors.\n",
      "  warn(\n",
      "/Users/admin/anaconda3/lib/python3.11/site-packages/sklearn/ensemble/_forest.py:413: FutureWarning: `max_features='auto'` has been deprecated in 1.1 and will be removed in 1.3. To keep the past behaviour, explicitly set `max_features=1.0` or remove this parameter as it is also the default value for RandomForestRegressors and ExtraTreesRegressors.\n",
      "  warn(\n",
      "/Users/admin/anaconda3/lib/python3.11/site-packages/sklearn/ensemble/_forest.py:413: FutureWarning: `max_features='auto'` has been deprecated in 1.1 and will be removed in 1.3. To keep the past behaviour, explicitly set `max_features=1.0` or remove this parameter as it is also the default value for RandomForestRegressors and ExtraTreesRegressors.\n",
      "  warn(\n",
      "/Users/admin/anaconda3/lib/python3.11/site-packages/sklearn/ensemble/_forest.py:413: FutureWarning: `max_features='auto'` has been deprecated in 1.1 and will be removed in 1.3. To keep the past behaviour, explicitly set `max_features=1.0` or remove this parameter as it is also the default value for RandomForestRegressors and ExtraTreesRegressors.\n",
      "  warn(\n",
      "/Users/admin/anaconda3/lib/python3.11/site-packages/sklearn/ensemble/_forest.py:413: FutureWarning: `max_features='auto'` has been deprecated in 1.1 and will be removed in 1.3. To keep the past behaviour, explicitly set `max_features=1.0` or remove this parameter as it is also the default value for RandomForestRegressors and ExtraTreesRegressors.\n",
      "  warn(\n",
      "/Users/admin/anaconda3/lib/python3.11/site-packages/sklearn/ensemble/_forest.py:413: FutureWarning: `max_features='auto'` has been deprecated in 1.1 and will be removed in 1.3. To keep the past behaviour, explicitly set `max_features=1.0` or remove this parameter as it is also the default value for RandomForestRegressors and ExtraTreesRegressors.\n",
      "  warn(\n",
      "/Users/admin/anaconda3/lib/python3.11/site-packages/sklearn/ensemble/_forest.py:413: FutureWarning: `max_features='auto'` has been deprecated in 1.1 and will be removed in 1.3. To keep the past behaviour, explicitly set `max_features=1.0` or remove this parameter as it is also the default value for RandomForestRegressors and ExtraTreesRegressors.\n",
      "  warn(\n",
      "/Users/admin/anaconda3/lib/python3.11/site-packages/sklearn/ensemble/_forest.py:413: FutureWarning: `max_features='auto'` has been deprecated in 1.1 and will be removed in 1.3. To keep the past behaviour, explicitly set `max_features=1.0` or remove this parameter as it is also the default value for RandomForestRegressors and ExtraTreesRegressors.\n",
      "  warn(\n",
      "/Users/admin/anaconda3/lib/python3.11/site-packages/sklearn/ensemble/_forest.py:413: FutureWarning: `max_features='auto'` has been deprecated in 1.1 and will be removed in 1.3. To keep the past behaviour, explicitly set `max_features=1.0` or remove this parameter as it is also the default value for RandomForestRegressors and ExtraTreesRegressors.\n",
      "  warn(\n",
      "/Users/admin/anaconda3/lib/python3.11/site-packages/sklearn/ensemble/_forest.py:413: FutureWarning: `max_features='auto'` has been deprecated in 1.1 and will be removed in 1.3. To keep the past behaviour, explicitly set `max_features=1.0` or remove this parameter as it is also the default value for RandomForestRegressors and ExtraTreesRegressors.\n",
      "  warn(\n",
      "/Users/admin/anaconda3/lib/python3.11/site-packages/sklearn/ensemble/_forest.py:413: FutureWarning: `max_features='auto'` has been deprecated in 1.1 and will be removed in 1.3. To keep the past behaviour, explicitly set `max_features=1.0` or remove this parameter as it is also the default value for RandomForestRegressors and ExtraTreesRegressors.\n",
      "  warn(\n",
      "/Users/admin/anaconda3/lib/python3.11/site-packages/sklearn/ensemble/_forest.py:413: FutureWarning: `max_features='auto'` has been deprecated in 1.1 and will be removed in 1.3. To keep the past behaviour, explicitly set `max_features=1.0` or remove this parameter as it is also the default value for RandomForestRegressors and ExtraTreesRegressors.\n",
      "  warn(\n",
      "/Users/admin/anaconda3/lib/python3.11/site-packages/sklearn/ensemble/_forest.py:413: FutureWarning: `max_features='auto'` has been deprecated in 1.1 and will be removed in 1.3. To keep the past behaviour, explicitly set `max_features=1.0` or remove this parameter as it is also the default value for RandomForestRegressors and ExtraTreesRegressors.\n",
      "  warn(\n",
      "/Users/admin/anaconda3/lib/python3.11/site-packages/sklearn/ensemble/_forest.py:413: FutureWarning: `max_features='auto'` has been deprecated in 1.1 and will be removed in 1.3. To keep the past behaviour, explicitly set `max_features=1.0` or remove this parameter as it is also the default value for RandomForestRegressors and ExtraTreesRegressors.\n",
      "  warn(\n",
      "/Users/admin/anaconda3/lib/python3.11/site-packages/sklearn/ensemble/_forest.py:413: FutureWarning: `max_features='auto'` has been deprecated in 1.1 and will be removed in 1.3. To keep the past behaviour, explicitly set `max_features=1.0` or remove this parameter as it is also the default value for RandomForestRegressors and ExtraTreesRegressors.\n",
      "  warn(\n",
      "/Users/admin/anaconda3/lib/python3.11/site-packages/sklearn/ensemble/_forest.py:413: FutureWarning: `max_features='auto'` has been deprecated in 1.1 and will be removed in 1.3. To keep the past behaviour, explicitly set `max_features=1.0` or remove this parameter as it is also the default value for RandomForestRegressors and ExtraTreesRegressors.\n",
      "  warn(\n",
      "/Users/admin/anaconda3/lib/python3.11/site-packages/sklearn/ensemble/_forest.py:413: FutureWarning: `max_features='auto'` has been deprecated in 1.1 and will be removed in 1.3. To keep the past behaviour, explicitly set `max_features=1.0` or remove this parameter as it is also the default value for RandomForestRegressors and ExtraTreesRegressors.\n",
      "  warn(\n",
      "/Users/admin/anaconda3/lib/python3.11/site-packages/sklearn/ensemble/_forest.py:413: FutureWarning: `max_features='auto'` has been deprecated in 1.1 and will be removed in 1.3. To keep the past behaviour, explicitly set `max_features=1.0` or remove this parameter as it is also the default value for RandomForestRegressors and ExtraTreesRegressors.\n",
      "  warn(\n",
      "/Users/admin/anaconda3/lib/python3.11/site-packages/sklearn/ensemble/_forest.py:413: FutureWarning: `max_features='auto'` has been deprecated in 1.1 and will be removed in 1.3. To keep the past behaviour, explicitly set `max_features=1.0` or remove this parameter as it is also the default value for RandomForestRegressors and ExtraTreesRegressors.\n",
      "  warn(\n",
      "/Users/admin/anaconda3/lib/python3.11/site-packages/sklearn/ensemble/_forest.py:413: FutureWarning: `max_features='auto'` has been deprecated in 1.1 and will be removed in 1.3. To keep the past behaviour, explicitly set `max_features=1.0` or remove this parameter as it is also the default value for RandomForestRegressors and ExtraTreesRegressors.\n",
      "  warn(\n",
      "/Users/admin/anaconda3/lib/python3.11/site-packages/sklearn/ensemble/_forest.py:413: FutureWarning: `max_features='auto'` has been deprecated in 1.1 and will be removed in 1.3. To keep the past behaviour, explicitly set `max_features=1.0` or remove this parameter as it is also the default value for RandomForestRegressors and ExtraTreesRegressors.\n",
      "  warn(\n",
      "/Users/admin/anaconda3/lib/python3.11/site-packages/sklearn/ensemble/_forest.py:413: FutureWarning: `max_features='auto'` has been deprecated in 1.1 and will be removed in 1.3. To keep the past behaviour, explicitly set `max_features=1.0` or remove this parameter as it is also the default value for RandomForestRegressors and ExtraTreesRegressors.\n",
      "  warn(\n",
      "/Users/admin/anaconda3/lib/python3.11/site-packages/sklearn/ensemble/_forest.py:413: FutureWarning: `max_features='auto'` has been deprecated in 1.1 and will be removed in 1.3. To keep the past behaviour, explicitly set `max_features=1.0` or remove this parameter as it is also the default value for RandomForestRegressors and ExtraTreesRegressors.\n",
      "  warn(\n",
      "/Users/admin/anaconda3/lib/python3.11/site-packages/sklearn/ensemble/_forest.py:413: FutureWarning: `max_features='auto'` has been deprecated in 1.1 and will be removed in 1.3. To keep the past behaviour, explicitly set `max_features=1.0` or remove this parameter as it is also the default value for RandomForestRegressors and ExtraTreesRegressors.\n",
      "  warn(\n",
      "/Users/admin/anaconda3/lib/python3.11/site-packages/sklearn/ensemble/_forest.py:413: FutureWarning: `max_features='auto'` has been deprecated in 1.1 and will be removed in 1.3. To keep the past behaviour, explicitly set `max_features=1.0` or remove this parameter as it is also the default value for RandomForestRegressors and ExtraTreesRegressors.\n",
      "  warn(\n",
      "/Users/admin/anaconda3/lib/python3.11/site-packages/sklearn/ensemble/_forest.py:413: FutureWarning: `max_features='auto'` has been deprecated in 1.1 and will be removed in 1.3. To keep the past behaviour, explicitly set `max_features=1.0` or remove this parameter as it is also the default value for RandomForestRegressors and ExtraTreesRegressors.\n",
      "  warn(\n",
      "/Users/admin/anaconda3/lib/python3.11/site-packages/sklearn/ensemble/_forest.py:413: FutureWarning: `max_features='auto'` has been deprecated in 1.1 and will be removed in 1.3. To keep the past behaviour, explicitly set `max_features=1.0` or remove this parameter as it is also the default value for RandomForestRegressors and ExtraTreesRegressors.\n",
      "  warn(\n",
      "/Users/admin/anaconda3/lib/python3.11/site-packages/sklearn/ensemble/_forest.py:413: FutureWarning: `max_features='auto'` has been deprecated in 1.1 and will be removed in 1.3. To keep the past behaviour, explicitly set `max_features=1.0` or remove this parameter as it is also the default value for RandomForestRegressors and ExtraTreesRegressors.\n",
      "  warn(\n",
      "/Users/admin/anaconda3/lib/python3.11/site-packages/sklearn/ensemble/_forest.py:413: FutureWarning: `max_features='auto'` has been deprecated in 1.1 and will be removed in 1.3. To keep the past behaviour, explicitly set `max_features=1.0` or remove this parameter as it is also the default value for RandomForestRegressors and ExtraTreesRegressors.\n",
      "  warn(\n",
      "/Users/admin/anaconda3/lib/python3.11/site-packages/sklearn/ensemble/_forest.py:413: FutureWarning: `max_features='auto'` has been deprecated in 1.1 and will be removed in 1.3. To keep the past behaviour, explicitly set `max_features=1.0` or remove this parameter as it is also the default value for RandomForestRegressors and ExtraTreesRegressors.\n",
      "  warn(\n",
      "/Users/admin/anaconda3/lib/python3.11/site-packages/sklearn/ensemble/_forest.py:413: FutureWarning: `max_features='auto'` has been deprecated in 1.1 and will be removed in 1.3. To keep the past behaviour, explicitly set `max_features=1.0` or remove this parameter as it is also the default value for RandomForestRegressors and ExtraTreesRegressors.\n",
      "  warn(\n",
      "/Users/admin/anaconda3/lib/python3.11/site-packages/sklearn/ensemble/_forest.py:413: FutureWarning: `max_features='auto'` has been deprecated in 1.1 and will be removed in 1.3. To keep the past behaviour, explicitly set `max_features=1.0` or remove this parameter as it is also the default value for RandomForestRegressors and ExtraTreesRegressors.\n",
      "  warn(\n",
      "/Users/admin/anaconda3/lib/python3.11/site-packages/sklearn/ensemble/_forest.py:413: FutureWarning: `max_features='auto'` has been deprecated in 1.1 and will be removed in 1.3. To keep the past behaviour, explicitly set `max_features=1.0` or remove this parameter as it is also the default value for RandomForestRegressors and ExtraTreesRegressors.\n",
      "  warn(\n",
      "/Users/admin/anaconda3/lib/python3.11/site-packages/sklearn/ensemble/_forest.py:413: FutureWarning: `max_features='auto'` has been deprecated in 1.1 and will be removed in 1.3. To keep the past behaviour, explicitly set `max_features=1.0` or remove this parameter as it is also the default value for RandomForestRegressors and ExtraTreesRegressors.\n",
      "  warn(\n",
      "/Users/admin/anaconda3/lib/python3.11/site-packages/sklearn/ensemble/_forest.py:413: FutureWarning: `max_features='auto'` has been deprecated in 1.1 and will be removed in 1.3. To keep the past behaviour, explicitly set `max_features=1.0` or remove this parameter as it is also the default value for RandomForestRegressors and ExtraTreesRegressors.\n",
      "  warn(\n",
      "/Users/admin/anaconda3/lib/python3.11/site-packages/sklearn/ensemble/_forest.py:413: FutureWarning: `max_features='auto'` has been deprecated in 1.1 and will be removed in 1.3. To keep the past behaviour, explicitly set `max_features=1.0` or remove this parameter as it is also the default value for RandomForestRegressors and ExtraTreesRegressors.\n",
      "  warn(\n",
      "/Users/admin/anaconda3/lib/python3.11/site-packages/sklearn/ensemble/_forest.py:413: FutureWarning: `max_features='auto'` has been deprecated in 1.1 and will be removed in 1.3. To keep the past behaviour, explicitly set `max_features=1.0` or remove this parameter as it is also the default value for RandomForestRegressors and ExtraTreesRegressors.\n",
      "  warn(\n",
      "/Users/admin/anaconda3/lib/python3.11/site-packages/sklearn/ensemble/_forest.py:413: FutureWarning: `max_features='auto'` has been deprecated in 1.1 and will be removed in 1.3. To keep the past behaviour, explicitly set `max_features=1.0` or remove this parameter as it is also the default value for RandomForestRegressors and ExtraTreesRegressors.\n",
      "  warn(\n",
      "/Users/admin/anaconda3/lib/python3.11/site-packages/sklearn/ensemble/_forest.py:413: FutureWarning: `max_features='auto'` has been deprecated in 1.1 and will be removed in 1.3. To keep the past behaviour, explicitly set `max_features=1.0` or remove this parameter as it is also the default value for RandomForestRegressors and ExtraTreesRegressors.\n",
      "  warn(\n",
      "/Users/admin/anaconda3/lib/python3.11/site-packages/sklearn/ensemble/_forest.py:413: FutureWarning: `max_features='auto'` has been deprecated in 1.1 and will be removed in 1.3. To keep the past behaviour, explicitly set `max_features=1.0` or remove this parameter as it is also the default value for RandomForestRegressors and ExtraTreesRegressors.\n",
      "  warn(\n",
      "/Users/admin/anaconda3/lib/python3.11/site-packages/sklearn/ensemble/_forest.py:413: FutureWarning: `max_features='auto'` has been deprecated in 1.1 and will be removed in 1.3. To keep the past behaviour, explicitly set `max_features=1.0` or remove this parameter as it is also the default value for RandomForestRegressors and ExtraTreesRegressors.\n",
      "  warn(\n",
      "/Users/admin/anaconda3/lib/python3.11/site-packages/sklearn/ensemble/_forest.py:413: FutureWarning: `max_features='auto'` has been deprecated in 1.1 and will be removed in 1.3. To keep the past behaviour, explicitly set `max_features=1.0` or remove this parameter as it is also the default value for RandomForestRegressors and ExtraTreesRegressors.\n",
      "  warn(\n",
      "/Users/admin/anaconda3/lib/python3.11/site-packages/sklearn/ensemble/_forest.py:413: FutureWarning: `max_features='auto'` has been deprecated in 1.1 and will be removed in 1.3. To keep the past behaviour, explicitly set `max_features=1.0` or remove this parameter as it is also the default value for RandomForestRegressors and ExtraTreesRegressors.\n",
      "  warn(\n",
      "/Users/admin/anaconda3/lib/python3.11/site-packages/sklearn/ensemble/_forest.py:413: FutureWarning: `max_features='auto'` has been deprecated in 1.1 and will be removed in 1.3. To keep the past behaviour, explicitly set `max_features=1.0` or remove this parameter as it is also the default value for RandomForestRegressors and ExtraTreesRegressors.\n",
      "  warn(\n",
      "/Users/admin/anaconda3/lib/python3.11/site-packages/sklearn/ensemble/_forest.py:413: FutureWarning: `max_features='auto'` has been deprecated in 1.1 and will be removed in 1.3. To keep the past behaviour, explicitly set `max_features=1.0` or remove this parameter as it is also the default value for RandomForestRegressors and ExtraTreesRegressors.\n",
      "  warn(\n",
      "/Users/admin/anaconda3/lib/python3.11/site-packages/sklearn/ensemble/_forest.py:413: FutureWarning: `max_features='auto'` has been deprecated in 1.1 and will be removed in 1.3. To keep the past behaviour, explicitly set `max_features=1.0` or remove this parameter as it is also the default value for RandomForestRegressors and ExtraTreesRegressors.\n",
      "  warn(\n",
      "/Users/admin/anaconda3/lib/python3.11/site-packages/sklearn/ensemble/_forest.py:413: FutureWarning: `max_features='auto'` has been deprecated in 1.1 and will be removed in 1.3. To keep the past behaviour, explicitly set `max_features=1.0` or remove this parameter as it is also the default value for RandomForestRegressors and ExtraTreesRegressors.\n",
      "  warn(\n",
      "/Users/admin/anaconda3/lib/python3.11/site-packages/sklearn/ensemble/_forest.py:413: FutureWarning: `max_features='auto'` has been deprecated in 1.1 and will be removed in 1.3. To keep the past behaviour, explicitly set `max_features=1.0` or remove this parameter as it is also the default value for RandomForestRegressors and ExtraTreesRegressors.\n",
      "  warn(\n",
      "/Users/admin/anaconda3/lib/python3.11/site-packages/sklearn/ensemble/_forest.py:413: FutureWarning: `max_features='auto'` has been deprecated in 1.1 and will be removed in 1.3. To keep the past behaviour, explicitly set `max_features=1.0` or remove this parameter as it is also the default value for RandomForestRegressors and ExtraTreesRegressors.\n",
      "  warn(\n",
      "/Users/admin/anaconda3/lib/python3.11/site-packages/sklearn/ensemble/_forest.py:413: FutureWarning: `max_features='auto'` has been deprecated in 1.1 and will be removed in 1.3. To keep the past behaviour, explicitly set `max_features=1.0` or remove this parameter as it is also the default value for RandomForestRegressors and ExtraTreesRegressors.\n",
      "  warn(\n",
      "/Users/admin/anaconda3/lib/python3.11/site-packages/sklearn/ensemble/_forest.py:413: FutureWarning: `max_features='auto'` has been deprecated in 1.1 and will be removed in 1.3. To keep the past behaviour, explicitly set `max_features=1.0` or remove this parameter as it is also the default value for RandomForestRegressors and ExtraTreesRegressors.\n",
      "  warn(\n",
      "/Users/admin/anaconda3/lib/python3.11/site-packages/sklearn/ensemble/_forest.py:413: FutureWarning: `max_features='auto'` has been deprecated in 1.1 and will be removed in 1.3. To keep the past behaviour, explicitly set `max_features=1.0` or remove this parameter as it is also the default value for RandomForestRegressors and ExtraTreesRegressors.\n",
      "  warn(\n",
      "/Users/admin/anaconda3/lib/python3.11/site-packages/sklearn/ensemble/_forest.py:413: FutureWarning: `max_features='auto'` has been deprecated in 1.1 and will be removed in 1.3. To keep the past behaviour, explicitly set `max_features=1.0` or remove this parameter as it is also the default value for RandomForestRegressors and ExtraTreesRegressors.\n",
      "  warn(\n",
      "/Users/admin/anaconda3/lib/python3.11/site-packages/sklearn/ensemble/_forest.py:413: FutureWarning: `max_features='auto'` has been deprecated in 1.1 and will be removed in 1.3. To keep the past behaviour, explicitly set `max_features=1.0` or remove this parameter as it is also the default value for RandomForestRegressors and ExtraTreesRegressors.\n",
      "  warn(\n",
      "/Users/admin/anaconda3/lib/python3.11/site-packages/sklearn/ensemble/_forest.py:413: FutureWarning: `max_features='auto'` has been deprecated in 1.1 and will be removed in 1.3. To keep the past behaviour, explicitly set `max_features=1.0` or remove this parameter as it is also the default value for RandomForestRegressors and ExtraTreesRegressors.\n",
      "  warn(\n",
      "/Users/admin/anaconda3/lib/python3.11/site-packages/sklearn/ensemble/_forest.py:413: FutureWarning: `max_features='auto'` has been deprecated in 1.1 and will be removed in 1.3. To keep the past behaviour, explicitly set `max_features=1.0` or remove this parameter as it is also the default value for RandomForestRegressors and ExtraTreesRegressors.\n",
      "  warn(\n",
      "/Users/admin/anaconda3/lib/python3.11/site-packages/sklearn/ensemble/_forest.py:413: FutureWarning: `max_features='auto'` has been deprecated in 1.1 and will be removed in 1.3. To keep the past behaviour, explicitly set `max_features=1.0` or remove this parameter as it is also the default value for RandomForestRegressors and ExtraTreesRegressors.\n",
      "  warn(\n",
      "/Users/admin/anaconda3/lib/python3.11/site-packages/sklearn/ensemble/_forest.py:413: FutureWarning: `max_features='auto'` has been deprecated in 1.1 and will be removed in 1.3. To keep the past behaviour, explicitly set `max_features=1.0` or remove this parameter as it is also the default value for RandomForestRegressors and ExtraTreesRegressors.\n",
      "  warn(\n",
      "/Users/admin/anaconda3/lib/python3.11/site-packages/sklearn/ensemble/_forest.py:413: FutureWarning: `max_features='auto'` has been deprecated in 1.1 and will be removed in 1.3. To keep the past behaviour, explicitly set `max_features=1.0` or remove this parameter as it is also the default value for RandomForestRegressors and ExtraTreesRegressors.\n",
      "  warn(\n",
      "/Users/admin/anaconda3/lib/python3.11/site-packages/sklearn/ensemble/_forest.py:413: FutureWarning: `max_features='auto'` has been deprecated in 1.1 and will be removed in 1.3. To keep the past behaviour, explicitly set `max_features=1.0` or remove this parameter as it is also the default value for RandomForestRegressors and ExtraTreesRegressors.\n",
      "  warn(\n",
      "/Users/admin/anaconda3/lib/python3.11/site-packages/sklearn/ensemble/_forest.py:413: FutureWarning: `max_features='auto'` has been deprecated in 1.1 and will be removed in 1.3. To keep the past behaviour, explicitly set `max_features=1.0` or remove this parameter as it is also the default value for RandomForestRegressors and ExtraTreesRegressors.\n",
      "  warn(\n",
      "/Users/admin/anaconda3/lib/python3.11/site-packages/sklearn/ensemble/_forest.py:413: FutureWarning: `max_features='auto'` has been deprecated in 1.1 and will be removed in 1.3. To keep the past behaviour, explicitly set `max_features=1.0` or remove this parameter as it is also the default value for RandomForestRegressors and ExtraTreesRegressors.\n",
      "  warn(\n",
      "/Users/admin/anaconda3/lib/python3.11/site-packages/sklearn/ensemble/_forest.py:413: FutureWarning: `max_features='auto'` has been deprecated in 1.1 and will be removed in 1.3. To keep the past behaviour, explicitly set `max_features=1.0` or remove this parameter as it is also the default value for RandomForestRegressors and ExtraTreesRegressors.\n",
      "  warn(\n",
      "/Users/admin/anaconda3/lib/python3.11/site-packages/sklearn/ensemble/_forest.py:413: FutureWarning: `max_features='auto'` has been deprecated in 1.1 and will be removed in 1.3. To keep the past behaviour, explicitly set `max_features=1.0` or remove this parameter as it is also the default value for RandomForestRegressors and ExtraTreesRegressors.\n",
      "  warn(\n",
      "/Users/admin/anaconda3/lib/python3.11/site-packages/sklearn/ensemble/_forest.py:413: FutureWarning: `max_features='auto'` has been deprecated in 1.1 and will be removed in 1.3. To keep the past behaviour, explicitly set `max_features=1.0` or remove this parameter as it is also the default value for RandomForestRegressors and ExtraTreesRegressors.\n",
      "  warn(\n",
      "/Users/admin/anaconda3/lib/python3.11/site-packages/sklearn/ensemble/_forest.py:413: FutureWarning: `max_features='auto'` has been deprecated in 1.1 and will be removed in 1.3. To keep the past behaviour, explicitly set `max_features=1.0` or remove this parameter as it is also the default value for RandomForestRegressors and ExtraTreesRegressors.\n",
      "  warn(\n",
      "/Users/admin/anaconda3/lib/python3.11/site-packages/sklearn/ensemble/_forest.py:413: FutureWarning: `max_features='auto'` has been deprecated in 1.1 and will be removed in 1.3. To keep the past behaviour, explicitly set `max_features=1.0` or remove this parameter as it is also the default value for RandomForestRegressors and ExtraTreesRegressors.\n",
      "  warn(\n",
      "/Users/admin/anaconda3/lib/python3.11/site-packages/sklearn/ensemble/_forest.py:413: FutureWarning: `max_features='auto'` has been deprecated in 1.1 and will be removed in 1.3. To keep the past behaviour, explicitly set `max_features=1.0` or remove this parameter as it is also the default value for RandomForestRegressors and ExtraTreesRegressors.\n",
      "  warn(\n",
      "/Users/admin/anaconda3/lib/python3.11/site-packages/sklearn/ensemble/_forest.py:413: FutureWarning: `max_features='auto'` has been deprecated in 1.1 and will be removed in 1.3. To keep the past behaviour, explicitly set `max_features=1.0` or remove this parameter as it is also the default value for RandomForestRegressors and ExtraTreesRegressors.\n",
      "  warn(\n",
      "/Users/admin/anaconda3/lib/python3.11/site-packages/sklearn/ensemble/_forest.py:413: FutureWarning: `max_features='auto'` has been deprecated in 1.1 and will be removed in 1.3. To keep the past behaviour, explicitly set `max_features=1.0` or remove this parameter as it is also the default value for RandomForestRegressors and ExtraTreesRegressors.\n",
      "  warn(\n",
      "/Users/admin/anaconda3/lib/python3.11/site-packages/sklearn/ensemble/_forest.py:413: FutureWarning: `max_features='auto'` has been deprecated in 1.1 and will be removed in 1.3. To keep the past behaviour, explicitly set `max_features=1.0` or remove this parameter as it is also the default value for RandomForestRegressors and ExtraTreesRegressors.\n",
      "  warn(\n",
      "/Users/admin/anaconda3/lib/python3.11/site-packages/sklearn/ensemble/_forest.py:413: FutureWarning: `max_features='auto'` has been deprecated in 1.1 and will be removed in 1.3. To keep the past behaviour, explicitly set `max_features=1.0` or remove this parameter as it is also the default value for RandomForestRegressors and ExtraTreesRegressors.\n",
      "  warn(\n",
      "/Users/admin/anaconda3/lib/python3.11/site-packages/sklearn/ensemble/_forest.py:413: FutureWarning: `max_features='auto'` has been deprecated in 1.1 and will be removed in 1.3. To keep the past behaviour, explicitly set `max_features=1.0` or remove this parameter as it is also the default value for RandomForestRegressors and ExtraTreesRegressors.\n",
      "  warn(\n",
      "/Users/admin/anaconda3/lib/python3.11/site-packages/sklearn/ensemble/_forest.py:413: FutureWarning: `max_features='auto'` has been deprecated in 1.1 and will be removed in 1.3. To keep the past behaviour, explicitly set `max_features=1.0` or remove this parameter as it is also the default value for RandomForestRegressors and ExtraTreesRegressors.\n",
      "  warn(\n",
      "/Users/admin/anaconda3/lib/python3.11/site-packages/sklearn/ensemble/_forest.py:413: FutureWarning: `max_features='auto'` has been deprecated in 1.1 and will be removed in 1.3. To keep the past behaviour, explicitly set `max_features=1.0` or remove this parameter as it is also the default value for RandomForestRegressors and ExtraTreesRegressors.\n",
      "  warn(\n",
      "/Users/admin/anaconda3/lib/python3.11/site-packages/sklearn/ensemble/_forest.py:413: FutureWarning: `max_features='auto'` has been deprecated in 1.1 and will be removed in 1.3. To keep the past behaviour, explicitly set `max_features=1.0` or remove this parameter as it is also the default value for RandomForestRegressors and ExtraTreesRegressors.\n",
      "  warn(\n",
      "/Users/admin/anaconda3/lib/python3.11/site-packages/sklearn/ensemble/_forest.py:413: FutureWarning: `max_features='auto'` has been deprecated in 1.1 and will be removed in 1.3. To keep the past behaviour, explicitly set `max_features=1.0` or remove this parameter as it is also the default value for RandomForestRegressors and ExtraTreesRegressors.\n",
      "  warn(\n",
      "/Users/admin/anaconda3/lib/python3.11/site-packages/sklearn/ensemble/_forest.py:413: FutureWarning: `max_features='auto'` has been deprecated in 1.1 and will be removed in 1.3. To keep the past behaviour, explicitly set `max_features=1.0` or remove this parameter as it is also the default value for RandomForestRegressors and ExtraTreesRegressors.\n",
      "  warn(\n",
      "/Users/admin/anaconda3/lib/python3.11/site-packages/sklearn/ensemble/_forest.py:413: FutureWarning: `max_features='auto'` has been deprecated in 1.1 and will be removed in 1.3. To keep the past behaviour, explicitly set `max_features=1.0` or remove this parameter as it is also the default value for RandomForestRegressors and ExtraTreesRegressors.\n",
      "  warn(\n",
      "/Users/admin/anaconda3/lib/python3.11/site-packages/sklearn/ensemble/_forest.py:413: FutureWarning: `max_features='auto'` has been deprecated in 1.1 and will be removed in 1.3. To keep the past behaviour, explicitly set `max_features=1.0` or remove this parameter as it is also the default value for RandomForestRegressors and ExtraTreesRegressors.\n",
      "  warn(\n",
      "/Users/admin/anaconda3/lib/python3.11/site-packages/sklearn/ensemble/_forest.py:413: FutureWarning: `max_features='auto'` has been deprecated in 1.1 and will be removed in 1.3. To keep the past behaviour, explicitly set `max_features=1.0` or remove this parameter as it is also the default value for RandomForestRegressors and ExtraTreesRegressors.\n",
      "  warn(\n",
      "/Users/admin/anaconda3/lib/python3.11/site-packages/sklearn/ensemble/_forest.py:413: FutureWarning: `max_features='auto'` has been deprecated in 1.1 and will be removed in 1.3. To keep the past behaviour, explicitly set `max_features=1.0` or remove this parameter as it is also the default value for RandomForestRegressors and ExtraTreesRegressors.\n",
      "  warn(\n",
      "/Users/admin/anaconda3/lib/python3.11/site-packages/sklearn/ensemble/_forest.py:413: FutureWarning: `max_features='auto'` has been deprecated in 1.1 and will be removed in 1.3. To keep the past behaviour, explicitly set `max_features=1.0` or remove this parameter as it is also the default value for RandomForestRegressors and ExtraTreesRegressors.\n",
      "  warn(\n",
      "/Users/admin/anaconda3/lib/python3.11/site-packages/sklearn/ensemble/_forest.py:413: FutureWarning: `max_features='auto'` has been deprecated in 1.1 and will be removed in 1.3. To keep the past behaviour, explicitly set `max_features=1.0` or remove this parameter as it is also the default value for RandomForestRegressors and ExtraTreesRegressors.\n",
      "  warn(\n",
      "/Users/admin/anaconda3/lib/python3.11/site-packages/sklearn/ensemble/_forest.py:413: FutureWarning: `max_features='auto'` has been deprecated in 1.1 and will be removed in 1.3. To keep the past behaviour, explicitly set `max_features=1.0` or remove this parameter as it is also the default value for RandomForestRegressors and ExtraTreesRegressors.\n",
      "  warn(\n",
      "/Users/admin/anaconda3/lib/python3.11/site-packages/sklearn/ensemble/_forest.py:413: FutureWarning: `max_features='auto'` has been deprecated in 1.1 and will be removed in 1.3. To keep the past behaviour, explicitly set `max_features=1.0` or remove this parameter as it is also the default value for RandomForestRegressors and ExtraTreesRegressors.\n",
      "  warn(\n",
      "/Users/admin/anaconda3/lib/python3.11/site-packages/sklearn/ensemble/_forest.py:413: FutureWarning: `max_features='auto'` has been deprecated in 1.1 and will be removed in 1.3. To keep the past behaviour, explicitly set `max_features=1.0` or remove this parameter as it is also the default value for RandomForestRegressors and ExtraTreesRegressors.\n",
      "  warn(\n",
      "/Users/admin/anaconda3/lib/python3.11/site-packages/sklearn/ensemble/_forest.py:413: FutureWarning: `max_features='auto'` has been deprecated in 1.1 and will be removed in 1.3. To keep the past behaviour, explicitly set `max_features=1.0` or remove this parameter as it is also the default value for RandomForestRegressors and ExtraTreesRegressors.\n",
      "  warn(\n",
      "/Users/admin/anaconda3/lib/python3.11/site-packages/sklearn/ensemble/_forest.py:413: FutureWarning: `max_features='auto'` has been deprecated in 1.1 and will be removed in 1.3. To keep the past behaviour, explicitly set `max_features=1.0` or remove this parameter as it is also the default value for RandomForestRegressors and ExtraTreesRegressors.\n",
      "  warn(\n"
     ]
    },
    {
     "name": "stdout",
     "output_type": "stream",
     "text": [
      "Fitting 3 folds for each of 100 candidates, totalling 300 fits\n",
      "[CV] END ......................................n_neighbors=3; total time=   1.0s\n",
      "[CV] END .....................................n_neighbors=20; total time=   0.9s\n",
      "[CV] END max_depth=5, max_features=7, min_samples_split=15, n_estimators=1000; total time=  28.0s\n",
      "[CV] END max_depth=15, max_features=8, min_samples_split=8, n_estimators=100; total time=   8.5s\n",
      "[CV] END max_depth=15, max_features=7, min_samples_split=15, n_estimators=1000; total time=  59.6s\n",
      "[CV] END max_depth=10, max_features=8, min_samples_split=8, n_estimators=200; total time=  11.6s\n",
      "[CV] END max_depth=10, max_features=8, min_samples_split=8, n_estimators=200; total time=   5.2s\n",
      "[CV] END max_depth=5, max_features=5, min_samples_split=20, n_estimators=500; total time=   6.8s\n",
      "[CV] END max_depth=8, max_features=8, min_samples_split=15, n_estimators=1000; total time=  51.1s\n",
      "[CV] END max_depth=15, max_features=auto, min_samples_split=2, n_estimators=200; total time=  44.7s\n",
      "[CV] END max_depth=10, max_features=auto, min_samples_split=15, n_estimators=1000; total time= 1.3min\n",
      "[CV] END max_depth=15, max_features=auto, min_samples_split=8, n_estimators=1000; total time= 2.0min\n",
      "[CV] END max_depth=10, max_features=8, min_samples_split=15, n_estimators=200; total time=   6.0s\n",
      "[CV] END max_depth=5, max_features=8, min_samples_split=15, n_estimators=1000; total time=  37.5s\n",
      "[CV] END max_depth=15, max_features=7, min_samples_split=20, n_estimators=1000; total time=  55.9s\n",
      "[CV] END max_depth=10, max_features=8, min_samples_split=20, n_estimators=200; total time=  13.0s\n",
      "[CV] END max_depth=8, max_features=8, min_samples_split=8, n_estimators=200; total time=   4.9s\n",
      "[CV] END max_depth=10, max_features=8, min_samples_split=15, n_estimators=500; total time=  13.9s\n",
      "[CV] END max_depth=5, max_features=7, min_samples_split=8, n_estimators=500; total time=  21.7s\n",
      "[CV] END max_depth=15, max_features=auto, min_samples_split=2, n_estimators=100; total time=  11.8s\n",
      "[CV] END max_depth=5, max_features=auto, min_samples_split=2, n_estimators=100; total time=   4.0s\n",
      "[CV] END max_depth=15, max_features=auto, min_samples_split=20, n_estimators=100; total time=   7.4s\n",
      "[CV] END max_depth=15, max_features=auto, min_samples_split=20, n_estimators=100; total time=  10.5s\n",
      "[CV] END max_depth=None, max_features=7, min_samples_split=2, n_estimators=500; total time=  47.5s\n",
      "[CV] END max_depth=None, max_features=auto, min_samples_split=15, n_estimators=100; total time=   8.8s\n",
      "[CV] END max_depth=10, max_features=8, min_samples_split=20, n_estimators=100; total time=   3.1s\n",
      "[CV] END max_depth=None, max_features=auto, min_samples_split=8, n_estimators=500; total time= 1.1min\n",
      "[CV] END max_depth=5, max_features=auto, min_samples_split=15, n_estimators=100; total time=  12.9s\n",
      "[CV] END max_depth=15, max_features=8, min_samples_split=15, n_estimators=100; total time=   8.3s\n",
      "[CV] END max_depth=None, max_features=5, min_samples_split=20, n_estimators=500; total time=  31.1s\n",
      "[CV] END max_depth=5, max_features=auto, min_samples_split=20, n_estimators=100; total time=  24.6s\n",
      "[CV] END max_depth=15, max_features=8, min_samples_split=2, n_estimators=1000; total time=  43.6s\n",
      "[CV] END max_depth=5, max_features=8, min_samples_split=8, n_estimators=200; total time=   2.4s\n",
      "[CV] END max_depth=5, max_features=8, min_samples_split=8, n_estimators=200; total time=   2.5s\n",
      "[CV] END max_depth=8, max_features=8, min_samples_split=15, n_estimators=500; total time=   7.3s\n",
      "[CV] END max_depth=None, max_features=8, min_samples_split=15, n_estimators=1000; total time=  21.5s\n",
      "[CV] END max_depth=8, max_features=auto, min_samples_split=2, n_estimators=1000; total time=  35.1s\n",
      "[CV] END max_depth=15, max_features=7, min_samples_split=15, n_estimators=500; total time=   8.2s\n",
      "[CV] END max_depth=15, max_features=8, min_samples_split=15, n_estimators=200; total time=   3.7s\n",
      "[CV] END colsample_bytree=1, learning_rate=0.01, max_depth=5, n_estimators=200; total time=   0.5s\n",
      "[CV] END colsample_bytree=0.8, learning_rate=0.01, max_depth=12, n_estimators=200; total time=   5.5s\n",
      "[CV] END colsample_bytree=0.8, learning_rate=0.1, max_depth=30, n_estimators=100; total time=  13.5s\n",
      "[CV] END colsample_bytree=1, learning_rate=0.01, max_depth=8, n_estimators=300; total time=   4.1s\n",
      "[CV] END colsample_bytree=0.8, learning_rate=0.1, max_depth=20, n_estimators=200; total time=  19.1s\n",
      "[CV] END .....................................n_neighbors=10; total time=   1.0s\n",
      "[CV] END .....................................n_neighbors=40; total time=   0.9s\n",
      "[CV] END max_depth=8, max_features=5, min_samples_split=20, n_estimators=500; total time=  19.9s\n",
      "[CV] END max_depth=15, max_features=auto, min_samples_split=20, n_estimators=1000; total time= 2.3min\n",
      "[CV] END max_depth=5, max_features=5, min_samples_split=2, n_estimators=500; total time=  24.4s\n",
      "[CV] END max_depth=15, max_features=auto, min_samples_split=8, n_estimators=200; total time=  36.5s\n",
      "[CV] END max_depth=None, max_features=8, min_samples_split=15, n_estimators=100; total time=   4.6s\n",
      "[CV] END max_depth=15, max_features=5, min_samples_split=2, n_estimators=500; total time=  15.2s\n",
      "[CV] END max_depth=5, max_features=5, min_samples_split=2, n_estimators=1000; total time=  15.6s\n",
      "[CV] END max_depth=None, max_features=auto, min_samples_split=20, n_estimators=500; total time=  47.2s\n",
      "[CV] END max_depth=None, max_features=5, min_samples_split=20, n_estimators=1000; total time=  32.5s\n",
      "[CV] END max_depth=None, max_features=5, min_samples_split=20, n_estimators=1000; total time=  37.4s\n",
      "[CV] END max_depth=None, max_features=auto, min_samples_split=2, n_estimators=200; total time=  30.9s\n",
      "[CV] END max_depth=10, max_features=5, min_samples_split=20, n_estimators=500; total time=  14.5s\n",
      "[CV] END max_depth=None, max_features=8, min_samples_split=2, n_estimators=100; total time=   7.8s\n",
      "[CV] END max_depth=8, max_features=7, min_samples_split=15, n_estimators=1000; total time=  41.1s\n",
      "[CV] END max_depth=8, max_features=5, min_samples_split=8, n_estimators=100; total time=   4.6s\n",
      "[CV] END max_depth=5, max_features=7, min_samples_split=15, n_estimators=200; total time=   8.6s\n",
      "[CV] END max_depth=8, max_features=auto, min_samples_split=2, n_estimators=100; total time=  10.8s\n",
      "[CV] END max_depth=8, max_features=auto, min_samples_split=2, n_estimators=100; total time=   6.5s\n",
      "[CV] END max_depth=5, max_features=5, min_samples_split=15, n_estimators=200; total time=   3.2s\n",
      "[CV] END max_depth=8, max_features=8, min_samples_split=8, n_estimators=1000; total time=  44.4s\n",
      "[CV] END max_depth=5, max_features=7, min_samples_split=8, n_estimators=500; total time=  23.5s\n",
      "[CV] END max_depth=15, max_features=7, min_samples_split=2, n_estimators=100; total time=   5.9s\n",
      "[CV] END max_depth=5, max_features=8, min_samples_split=20, n_estimators=500; total time=   9.2s\n",
      "[CV] END max_depth=8, max_features=5, min_samples_split=8, n_estimators=1000; total time=  22.8s\n",
      "[CV] END max_depth=None, max_features=7, min_samples_split=2, n_estimators=500; total time=  44.2s\n",
      "[CV] END max_depth=15, max_features=5, min_samples_split=2, n_estimators=200; total time=   7.8s\n",
      "[CV] END max_depth=8, max_features=5, min_samples_split=20, n_estimators=100; total time=   1.8s\n",
      "[CV] END max_depth=None, max_features=auto, min_samples_split=8, n_estimators=500; total time= 1.2min\n",
      "[CV] END max_depth=5, max_features=auto, min_samples_split=15, n_estimators=100; total time=  14.0s\n",
      "[CV] END max_depth=None, max_features=5, min_samples_split=20, n_estimators=500; total time=  31.9s\n",
      "[CV] END max_depth=5, max_features=auto, min_samples_split=20, n_estimators=100; total time=  26.9s\n",
      "[CV] END max_depth=5, max_features=auto, min_samples_split=20, n_estimators=100; total time=   9.2s\n",
      "[CV] END max_depth=15, max_features=8, min_samples_split=2, n_estimators=1000; total time=  37.9s\n",
      "[CV] END max_depth=5, max_features=8, min_samples_split=8, n_estimators=200; total time=   2.5s\n",
      "[CV] END max_depth=8, max_features=8, min_samples_split=15, n_estimators=500; total time=   7.3s\n",
      "[CV] END max_depth=None, max_features=8, min_samples_split=15, n_estimators=1000; total time=  21.2s\n",
      "[CV] END max_depth=8, max_features=auto, min_samples_split=2, n_estimators=1000; total time=  35.7s\n",
      "[CV] END max_depth=15, max_features=7, min_samples_split=15, n_estimators=500; total time=   8.0s\n",
      "[CV] END max_depth=15, max_features=8, min_samples_split=15, n_estimators=200; total time=   3.7s\n",
      "[CV] END colsample_bytree=0.8, learning_rate=0.01, max_depth=12, n_estimators=200; total time=   5.4s\n",
      "[CV] END colsample_bytree=0.8, learning_rate=0.1, max_depth=30, n_estimators=100; total time=  13.8s\n",
      "[CV] END colsample_bytree=0.8, learning_rate=0.1, max_depth=5, n_estimators=100; total time=   0.5s\n",
      "[CV] END colsample_bytree=1, learning_rate=0.01, max_depth=8, n_estimators=300; total time=   4.2s\n",
      "[CV] END colsample_bytree=0.5, learning_rate=0.1, max_depth=20, n_estimators=100; total time=   7.5s\n",
      "[CV] END colsample_bytree=0.4, learning_rate=0.01, max_depth=20, n_estimators=100; total time=   3.1s\n",
      "[CV] END colsample_bytree=0.4, learning_rate=0.01, max_depth=20, n_estimators=100; total time=   3.0s\n",
      "[CV] END colsample_bytree=0.4, learning_rate=0.1, max_depth=8, n_estimators=100; total time=   0.9s\n",
      "[CV] END colsample_bytree=0.4, learning_rate=0.01, max_depth=5, n_estimators=300; total time=   1.3s\n",
      "[CV] END colsample_bytree=1, learning_rate=0.01, max_depth=5, n_estimators=300; total time=   1.4s\n",
      "[CV] END colsample_bytree=1, learning_rate=0.1, max_depth=8, n_estimators=200; total time=   1.8s\n",
      "[CV] END colsample_bytree=0.3, learning_rate=0.01, max_depth=20, n_estimators=300; total time=   5.2s\n",
      "[CV] END colsample_bytree=0.8, learning_rate=0.01, max_depth=20, n_estimators=100; total time=   4.0s\n",
      "[CV] END colsample_bytree=0.4, learning_rate=0.01, max_depth=30, n_estimators=300; total time=  10.1s\n",
      "[CV] END colsample_bytree=1, learning_rate=0.1, max_depth=20, n_estimators=100; total time=  13.5s\n",
      "[CV] END colsample_bytree=1, learning_rate=0.1, max_depth=20, n_estimators=300; total time=  39.0s\n",
      "[CV] END colsample_bytree=0.3, learning_rate=0.1, max_depth=5, n_estimators=200; total time=   0.6s\n",
      "[CV] END colsample_bytree=0.4, learning_rate=0.01, max_depth=30, n_estimators=300; total time=   9.7s\n",
      "[CV] END colsample_bytree=0.5, learning_rate=0.01, max_depth=12, n_estimators=300; total time=   7.4s\n",
      "[CV] END colsample_bytree=1, learning_rate=0.01, max_depth=12, n_estimators=300; total time=   8.9s\n",
      "[CV] END colsample_bytree=0.4, learning_rate=0.01, max_depth=5, n_estimators=200; total time=   0.9s\n",
      "[CV] END colsample_bytree=1, learning_rate=0.01, max_depth=30, n_estimators=300; total time=  28.3s\n",
      "[CV] END colsample_bytree=0.4, learning_rate=0.01, max_depth=8, n_estimators=200; total time=   1.8s\n",
      "[CV] END colsample_bytree=0.3, learning_rate=0.01, max_depth=12, n_estimators=100; total time=   1.3s\n",
      "[CV] END colsample_bytree=0.3, learning_rate=0.01, max_depth=12, n_estimators=100; total time=   1.1s\n",
      "[CV] END colsample_bytree=1, learning_rate=0.1, max_depth=30, n_estimators=300; total time= 1.0min\n",
      "[CV] END colsample_bytree=0.4, learning_rate=0.1, max_depth=5, n_estimators=100; total time=   0.4s\n",
      "[CV] END colsample_bytree=0.8, learning_rate=0.01, max_depth=8, n_estimators=100; total time=   0.8s\n",
      "[CV] END colsample_bytree=0.8, learning_rate=0.01, max_depth=5, n_estimators=100; total time=   0.4s\n",
      "[CV] END colsample_bytree=0.8, learning_rate=0.01, max_depth=5, n_estimators=100; total time=   0.4s\n",
      "[CV] END colsample_bytree=0.3, learning_rate=0.1, max_depth=8, n_estimators=100; total time=   0.7s\n",
      "[CV] END colsample_bytree=0.3, learning_rate=0.1, max_depth=8, n_estimators=100; total time=   0.6s\n",
      "[CV] END colsample_bytree=0.5, learning_rate=0.1, max_depth=30, n_estimators=300; total time=  24.0s\n",
      "[CV] END colsample_bytree=0.4, learning_rate=0.1, max_depth=8, n_estimators=300; total time=   2.2s\n",
      "[CV] END colsample_bytree=0.4, learning_rate=0.1, max_depth=5, n_estimators=200; total time=   0.8s\n",
      "[CV] END colsample_bytree=0.8, learning_rate=0.01, max_depth=30, n_estimators=300; total time=  22.0s\n",
      "[CV] END colsample_bytree=0.8, learning_rate=0.1, max_depth=5, n_estimators=300; total time=   1.5s\n",
      "[CV] END colsample_bytree=0.5, learning_rate=0.01, max_depth=30, n_estimators=200; total time=   8.1s\n",
      "[CV] END colsample_bytree=0.3, learning_rate=0.01, max_depth=5, n_estimators=300; total time=   1.3s\n",
      "[CV] END colsample_bytree=0.4, learning_rate=0.1, max_depth=12, n_estimators=200; total time=   4.0s\n",
      "[CV] END colsample_bytree=0.8, learning_rate=0.1, max_depth=12, n_estimators=300; total time=   7.1s\n",
      "[CV] END colsample_bytree=0.8, learning_rate=0.1, max_depth=12, n_estimators=300; total time=   7.8s\n",
      "[CV] END colsample_bytree=0.8, learning_rate=0.01, max_depth=20, n_estimators=300; total time=  17.7s\n",
      "[CV] END ......................................n_neighbors=3; total time=   1.0s\n",
      "[CV] END .....................................n_neighbors=20; total time=   0.9s\n",
      "[CV] END max_depth=5, max_features=7, min_samples_split=15, n_estimators=1000; total time=  27.1s\n",
      "[CV] END max_depth=15, max_features=8, min_samples_split=8, n_estimators=100; total time=   8.7s\n",
      "[CV] END max_depth=15, max_features=7, min_samples_split=15, n_estimators=1000; total time=  59.9s\n",
      "[CV] END max_depth=10, max_features=auto, min_samples_split=20, n_estimators=200; total time=  19.5s\n",
      "[CV] END max_depth=5, max_features=5, min_samples_split=20, n_estimators=500; total time=   6.6s\n",
      "[CV] END max_depth=8, max_features=7, min_samples_split=8, n_estimators=500; total time=  14.3s\n",
      "[CV] END max_depth=8, max_features=7, min_samples_split=8, n_estimators=500; total time=  44.8s\n",
      "[CV] END max_depth=None, max_features=auto, min_samples_split=20, n_estimators=100; total time=  18.9s\n",
      "[CV] END max_depth=None, max_features=auto, min_samples_split=20, n_estimators=100; total time=  13.0s\n",
      "[CV] END max_depth=None, max_features=7, min_samples_split=15, n_estimators=1000; total time=  29.6s\n",
      "[CV] END max_depth=5, max_features=5, min_samples_split=8, n_estimators=100; total time=   1.7s\n",
      "[CV] END max_depth=5, max_features=5, min_samples_split=8, n_estimators=100; total time=   1.7s\n",
      "[CV] END max_depth=5, max_features=5, min_samples_split=8, n_estimators=100; total time=   1.5s\n",
      "[CV] END max_depth=None, max_features=auto, min_samples_split=20, n_estimators=500; total time=  45.2s\n",
      "[CV] END max_depth=5, max_features=auto, min_samples_split=2, n_estimators=1000; total time=  53.3s\n",
      "[CV] END max_depth=10, max_features=auto, min_samples_split=20, n_estimators=1000; total time= 1.9min\n",
      "[CV] END max_depth=8, max_features=5, min_samples_split=8, n_estimators=100; total time=   2.0s\n",
      "[CV] END max_depth=5, max_features=7, min_samples_split=15, n_estimators=200; total time=   8.7s\n",
      "[CV] END max_depth=10, max_features=8, min_samples_split=8, n_estimators=500; total time=  21.9s\n",
      "[CV] END max_depth=5, max_features=5, min_samples_split=15, n_estimators=200; total time=  11.3s\n",
      "[CV] END max_depth=10, max_features=8, min_samples_split=20, n_estimators=200; total time=  17.3s\n",
      "[CV] END max_depth=None, max_features=5, min_samples_split=15, n_estimators=200; total time=   5.0s\n",
      "[CV] END max_depth=8, max_features=auto, min_samples_split=2, n_estimators=500; total time=  45.8s\n",
      "[CV] END max_depth=5, max_features=auto, min_samples_split=2, n_estimators=100; total time=   4.9s\n",
      "[CV] END max_depth=None, max_features=5, min_samples_split=8, n_estimators=1000; total time=  45.7s\n",
      "[CV] END max_depth=15, max_features=auto, min_samples_split=20, n_estimators=500; total time= 1.0min\n",
      "[CV] END max_depth=8, max_features=5, min_samples_split=2, n_estimators=1000; total time=  28.8s\n",
      "[CV] END max_depth=5, max_features=8, min_samples_split=2, n_estimators=1000; total time=  40.4s\n",
      "[CV] END max_depth=None, max_features=auto, min_samples_split=20, n_estimators=1000; total time= 1.8min\n",
      "[CV] END max_depth=None, max_features=8, min_samples_split=2, n_estimators=500; total time=  14.6s\n",
      "[CV] END max_depth=10, max_features=5, min_samples_split=8, n_estimators=1000; total time=  15.3s\n",
      "[CV] END max_depth=5, max_features=auto, min_samples_split=2, n_estimators=200; total time=   4.5s\n",
      "[CV] END max_depth=5, max_features=auto, min_samples_split=2, n_estimators=200; total time=   4.5s\n",
      "[CV] END max_depth=8, max_features=7, min_samples_split=2, n_estimators=500; total time=   5.8s\n",
      "[CV] END max_depth=8, max_features=auto, min_samples_split=8, n_estimators=1000; total time=  31.0s\n",
      "[CV] END colsample_bytree=1, learning_rate=0.01, max_depth=5, n_estimators=200; total time=   0.5s\n",
      "[CV] END colsample_bytree=1, learning_rate=0.1, max_depth=5, n_estimators=200; total time=   1.0s\n",
      "[CV] END colsample_bytree=0.5, learning_rate=0.01, max_depth=20, n_estimators=200; total time=   8.3s\n",
      "[CV] END colsample_bytree=0.8, learning_rate=0.1, max_depth=30, n_estimators=100; total time=  13.0s\n",
      "[CV] END colsample_bytree=0.3, learning_rate=0.01, max_depth=5, n_estimators=200; total time=   0.8s\n",
      "[CV] END colsample_bytree=0.5, learning_rate=0.1, max_depth=20, n_estimators=100; total time=   7.5s\n",
      "[CV] END colsample_bytree=0.5, learning_rate=0.1, max_depth=20, n_estimators=100; total time=   6.8s\n",
      "[CV] END colsample_bytree=0.4, learning_rate=0.1, max_depth=8, n_estimators=100; total time=   1.0s\n",
      "[CV] END colsample_bytree=1, learning_rate=0.1, max_depth=5, n_estimators=300; total time=   1.1s\n",
      "[CV] END colsample_bytree=1, learning_rate=0.01, max_depth=5, n_estimators=300; total time=   1.4s\n",
      "[CV] END colsample_bytree=1, learning_rate=0.1, max_depth=8, n_estimators=200; total time=   1.6s\n",
      "[CV] END colsample_bytree=0.3, learning_rate=0.01, max_depth=20, n_estimators=300; total time=   5.3s\n",
      "[CV] END colsample_bytree=1, learning_rate=0.01, max_depth=8, n_estimators=100; total time=   1.0s\n",
      "[CV] END colsample_bytree=0.3, learning_rate=0.01, max_depth=12, n_estimators=200; total time=   2.1s\n",
      "[CV] END colsample_bytree=0.8, learning_rate=0.1, max_depth=12, n_estimators=200; total time=   4.0s\n",
      "[CV] END colsample_bytree=1, learning_rate=0.1, max_depth=12, n_estimators=100; total time=   3.4s\n",
      "[CV] END colsample_bytree=1, learning_rate=0.1, max_depth=12, n_estimators=100; total time=   3.7s\n",
      "[CV] END colsample_bytree=1, learning_rate=0.1, max_depth=20, n_estimators=100; total time=  13.7s\n",
      "[CV] END colsample_bytree=1, learning_rate=0.1, max_depth=20, n_estimators=300; total time=  37.1s\n",
      "[CV] END colsample_bytree=0.4, learning_rate=0.1, max_depth=20, n_estimators=200; total time=   9.9s\n",
      "[CV] END colsample_bytree=0.5, learning_rate=0.1, max_depth=12, n_estimators=300; total time=   6.8s\n",
      "[CV] END colsample_bytree=0.5, learning_rate=0.1, max_depth=5, n_estimators=100; total time=   0.5s\n",
      "[CV] END colsample_bytree=1, learning_rate=0.1, max_depth=30, n_estimators=200; total time=  42.8s\n",
      "[CV] END colsample_bytree=0.8, learning_rate=0.01, max_depth=8, n_estimators=100; total time=   0.8s\n",
      "[CV] END colsample_bytree=0.3, learning_rate=0.1, max_depth=8, n_estimators=200; total time=   1.2s\n",
      "[CV] END colsample_bytree=0.3, learning_rate=0.1, max_depth=8, n_estimators=100; total time=   0.6s\n",
      "[CV] END colsample_bytree=0.5, learning_rate=0.1, max_depth=30, n_estimators=300; total time=  24.2s\n",
      "[CV] END colsample_bytree=1, learning_rate=0.01, max_depth=20, n_estimators=100; total time=   5.1s\n",
      "[CV] END colsample_bytree=0.4, learning_rate=0.1, max_depth=8, n_estimators=200; total time=   1.9s\n",
      "[CV] END colsample_bytree=0.5, learning_rate=0.01, max_depth=20, n_estimators=300; total time=  13.2s\n",
      "[CV] END colsample_bytree=0.3, learning_rate=0.1, max_depth=30, n_estimators=300; total time=  11.2s\n",
      "[CV] END colsample_bytree=0.8, learning_rate=0.1, max_depth=12, n_estimators=100; total time=   2.5s\n",
      "[CV] END colsample_bytree=0.8, learning_rate=0.1, max_depth=30, n_estimators=300; total time=  39.0s\n",
      "Fitting 3 folds for each of 20 candidates, totalling 60 fits\n",
      "[CV] END ......................................n_neighbors=3; total time=   0.9s\n",
      "[CV] END .....................................n_neighbors=10; total time=   0.8s\n",
      "[CV] END .....................................n_neighbors=50; total time=   0.7s\n",
      "[CV] END max_depth=8, max_features=5, min_samples_split=20, n_estimators=500; total time=  17.8s\n",
      "[CV] END max_depth=8, max_features=8, min_samples_split=20, n_estimators=200; total time=   6.7s\n",
      "[CV] END max_depth=15, max_features=5, min_samples_split=20, n_estimators=100; total time=   2.3s\n",
      "[CV] END max_depth=15, max_features=5, min_samples_split=20, n_estimators=100; total time=   6.4s\n",
      "[CV] END max_depth=10, max_features=8, min_samples_split=15, n_estimators=1000; total time=  51.8s\n",
      "[CV] END max_depth=10, max_features=auto, min_samples_split=20, n_estimators=200; total time=  27.1s\n",
      "[CV] END max_depth=10, max_features=8, min_samples_split=8, n_estimators=200; total time=   5.4s\n",
      "[CV] END max_depth=5, max_features=5, min_samples_split=15, n_estimators=100; total time=   1.3s\n",
      "[CV] END max_depth=5, max_features=5, min_samples_split=15, n_estimators=100; total time=   1.2s\n",
      "[CV] END max_depth=5, max_features=5, min_samples_split=15, n_estimators=100; total time=   1.3s\n",
      "[CV] END max_depth=8, max_features=8, min_samples_split=15, n_estimators=1000; total time=  56.6s\n",
      "[CV] END max_depth=15, max_features=auto, min_samples_split=8, n_estimators=200; total time=  36.9s\n",
      "[CV] END max_depth=None, max_features=8, min_samples_split=15, n_estimators=100; total time=   4.4s\n",
      "[CV] END max_depth=15, max_features=5, min_samples_split=2, n_estimators=500; total time=  14.7s\n",
      "[CV] END max_depth=15, max_features=5, min_samples_split=2, n_estimators=500; total time=  17.1s\n",
      "[CV] END max_depth=None, max_features=auto, min_samples_split=20, n_estimators=500; total time=  47.8s\n",
      "[CV] END max_depth=None, max_features=5, min_samples_split=20, n_estimators=1000; total time=  31.8s\n",
      "[CV] END max_depth=10, max_features=8, min_samples_split=2, n_estimators=200; total time=   5.1s\n",
      "[CV] END max_depth=10, max_features=8, min_samples_split=2, n_estimators=200; total time=  10.0s\n",
      "[CV] END max_depth=10, max_features=8, min_samples_split=2, n_estimators=200; total time=   5.6s\n",
      "[CV] END max_depth=15, max_features=8, min_samples_split=2, n_estimators=100; total time=  11.0s\n",
      "[CV] END max_depth=15, max_features=8, min_samples_split=2, n_estimators=100; total time=   5.8s\n",
      "[CV] END max_depth=None, max_features=auto, min_samples_split=2, n_estimators=200; total time=  33.3s\n",
      "[CV] END max_depth=10, max_features=5, min_samples_split=20, n_estimators=500; total time=  12.9s\n",
      "[CV] END max_depth=5, max_features=8, min_samples_split=15, n_estimators=1000; total time=  37.7s\n",
      "[CV] END max_depth=15, max_features=7, min_samples_split=20, n_estimators=1000; total time=  56.3s\n",
      "[CV] END max_depth=None, max_features=5, min_samples_split=15, n_estimators=200; total time=  12.6s\n",
      "[CV] END max_depth=8, max_features=8, min_samples_split=8, n_estimators=200; total time=   4.8s\n",
      "[CV] END max_depth=10, max_features=8, min_samples_split=15, n_estimators=500; total time=  17.7s\n",
      "[CV] END max_depth=15, max_features=7, min_samples_split=2, n_estimators=100; total time=   8.6s\n",
      "[CV] END max_depth=15, max_features=7, min_samples_split=2, n_estimators=100; total time=  10.6s\n",
      "[CV] END max_depth=15, max_features=auto, min_samples_split=2, n_estimators=100; total time=  11.7s\n",
      "[CV] END max_depth=None, max_features=5, min_samples_split=8, n_estimators=1000; total time=  44.2s\n",
      "[CV] END max_depth=10, max_features=auto, min_samples_split=2, n_estimators=200; total time=  25.0s\n",
      "[CV] END max_depth=None, max_features=auto, min_samples_split=15, n_estimators=100; total time=   8.5s\n",
      "[CV] END max_depth=10, max_features=8, min_samples_split=20, n_estimators=100; total time=   2.9s\n",
      "[CV] END max_depth=8, max_features=5, min_samples_split=20, n_estimators=100; total time=   2.3s\n",
      "[CV] END max_depth=None, max_features=7, min_samples_split=8, n_estimators=1000; total time=  54.4s\n",
      "[CV] END max_depth=8, max_features=5, min_samples_split=2, n_estimators=1000; total time=  41.7s\n",
      "[CV] END max_depth=None, max_features=auto, min_samples_split=20, n_estimators=1000; total time= 1.8min\n",
      "[CV] END max_depth=8, max_features=7, min_samples_split=8, n_estimators=1000; total time=  14.2s\n",
      "[CV] END max_depth=10, max_features=5, min_samples_split=8, n_estimators=1000; total time=  15.0s\n",
      "[CV] END max_depth=10, max_features=5, min_samples_split=2, n_estimators=1000; total time=  11.3s\n",
      "[CV] END max_depth=8, max_features=7, min_samples_split=2, n_estimators=500; total time=   5.8s\n",
      "[CV] END max_depth=8, max_features=auto, min_samples_split=8, n_estimators=1000; total time=  30.2s\n",
      "[CV] END colsample_bytree=0.8, learning_rate=0.01, max_depth=12, n_estimators=200; total time=   5.1s\n",
      "[CV] END colsample_bytree=0.5, learning_rate=0.01, max_depth=20, n_estimators=200; total time=   8.8s\n",
      "[CV] END colsample_bytree=0.8, learning_rate=0.1, max_depth=5, n_estimators=200; total time=   1.0s\n",
      "[CV] END colsample_bytree=0.3, learning_rate=0.1, max_depth=12, n_estimators=100; total time=   1.6s\n",
      "[CV] END colsample_bytree=0.4, learning_rate=0.01, max_depth=12, n_estimators=100; total time=   2.2s\n",
      "[CV] END colsample_bytree=0.4, learning_rate=0.01, max_depth=12, n_estimators=100; total time=   1.5s\n",
      "[CV] END colsample_bytree=1, learning_rate=0.1, max_depth=30, n_estimators=100; total time=  16.6s\n",
      "[CV] END colsample_bytree=0.4, learning_rate=0.01, max_depth=20, n_estimators=100; total time=   2.4s\n",
      "[CV] END colsample_bytree=1, learning_rate=0.1, max_depth=5, n_estimators=300; total time=   1.1s\n",
      "[CV] END colsample_bytree=0.4, learning_rate=0.01, max_depth=12, n_estimators=300; total time=   4.1s\n",
      "[CV] END colsample_bytree=0.4, learning_rate=0.01, max_depth=30, n_estimators=200; total time=   4.9s\n",
      "[CV] END colsample_bytree=0.3, learning_rate=0.01, max_depth=12, n_estimators=200; total time=   2.1s\n",
      "[CV] END colsample_bytree=0.4, learning_rate=0.01, max_depth=5, n_estimators=100; total time=   0.4s\n",
      "[CV] END colsample_bytree=0.4, learning_rate=0.01, max_depth=5, n_estimators=100; total time=   0.4s\n",
      "[CV] END colsample_bytree=0.4, learning_rate=0.01, max_depth=8, n_estimators=300; total time=   2.6s\n",
      "[CV] END colsample_bytree=0.4, learning_rate=0.1, max_depth=20, n_estimators=300; total time=  15.5s\n",
      "[CV] END colsample_bytree=1, learning_rate=0.01, max_depth=12, n_estimators=300; total time=   9.5s\n",
      "[CV] END colsample_bytree=0.5, learning_rate=0.1, max_depth=5, n_estimators=200; total time=   0.8s\n",
      "[CV] END colsample_bytree=1, learning_rate=0.01, max_depth=30, n_estimators=100; total time=   6.0s\n",
      "[CV] END colsample_bytree=1, learning_rate=0.01, max_depth=30, n_estimators=100; total time=   7.2s\n",
      "[CV] END colsample_bytree=0.4, learning_rate=0.1, max_depth=12, n_estimators=300; total time=   5.6s\n",
      "[CV] END colsample_bytree=0.3, learning_rate=0.01, max_depth=8, n_estimators=200; total time=   1.8s\n",
      "[CV] END colsample_bytree=0.3, learning_rate=0.01, max_depth=8, n_estimators=200; total time=   1.9s\n",
      "[CV] END colsample_bytree=0.4, learning_rate=0.01, max_depth=12, n_estimators=200; total time=   4.1s\n",
      "[CV] END colsample_bytree=0.4, learning_rate=0.01, max_depth=8, n_estimators=200; total time=   2.2s\n",
      "[CV] END colsample_bytree=0.8, learning_rate=0.01, max_depth=20, n_estimators=200; total time=  11.5s\n",
      "[CV] END colsample_bytree=0.5, learning_rate=0.1, max_depth=12, n_estimators=300; total time=   7.9s\n",
      "[CV] END colsample_bytree=0.5, learning_rate=0.1, max_depth=5, n_estimators=100; total time=   0.5s\n",
      "[CV] END colsample_bytree=1, learning_rate=0.1, max_depth=30, n_estimators=200; total time=  42.6s\n",
      "[CV] END colsample_bytree=0.8, learning_rate=0.01, max_depth=30, n_estimators=200; total time=   9.4s\n",
      "[CV] END colsample_bytree=1, learning_rate=0.1, max_depth=12, n_estimators=200; total time=   6.6s\n",
      "[CV] END colsample_bytree=0.5, learning_rate=0.1, max_depth=8, n_estimators=300; total time=   2.8s\n",
      "[CV] END colsample_bytree=0.4, learning_rate=0.01, max_depth=20, n_estimators=300; total time=  10.0s\n",
      "[CV] END colsample_bytree=0.4, learning_rate=0.1, max_depth=8, n_estimators=300; total time=   2.1s\n",
      "[CV] END colsample_bytree=0.5, learning_rate=0.1, max_depth=8, n_estimators=100; total time=   1.2s\n",
      "[CV] END colsample_bytree=0.4, learning_rate=0.1, max_depth=8, n_estimators=200; total time=   2.1s\n",
      "[CV] END colsample_bytree=0.4, learning_rate=0.1, max_depth=8, n_estimators=200; total time=   2.0s\n",
      "[CV] END colsample_bytree=0.5, learning_rate=0.01, max_depth=20, n_estimators=300; total time=  13.9s\n",
      "[CV] END colsample_bytree=0.5, learning_rate=0.1, max_depth=30, n_estimators=100; total time=   7.4s\n",
      "[CV] END colsample_bytree=0.5, learning_rate=0.01, max_depth=12, n_estimators=100; total time=   1.8s\n",
      "[CV] END colsample_bytree=0.3, learning_rate=0.01, max_depth=20, n_estimators=100; total time=   1.6s\n",
      "[CV] END colsample_bytree=0.3, learning_rate=0.01, max_depth=20, n_estimators=100; total time=   1.4s\n",
      "[CV] END colsample_bytree=0.3, learning_rate=0.1, max_depth=30, n_estimators=100; total time=   2.7s\n",
      "[CV] END colsample_bytree=0.4, learning_rate=0.1, max_depth=12, n_estimators=200; total time=   3.8s\n",
      "[CV] END colsample_bytree=0.8, learning_rate=0.1, max_depth=12, n_estimators=300; total time=   6.9s\n",
      "[CV] END colsample_bytree=0.8, learning_rate=0.01, max_depth=20, n_estimators=300; total time=  20.4s\n",
      "[CV] END .....................learning_rate=0.1, max_depth=8; total time=  28.8s\n",
      "[CV] END ...................learning_rate=0.01, max_depth=12; total time= 3.4min\n",
      "[CV] END ....................learning_rate=0.05, max_depth=6; total time=  21.9s\n",
      "[CV] END ...................learning_rate=0.05, max_depth=12; total time= 3.0min\n",
      "[CV] END ......................................n_neighbors=2; total time=   1.0s\n",
      "[CV] END .....................................n_neighbors=20; total time=   0.9s\n",
      "[CV] END .....................................n_neighbors=50; total time=   0.6s\n",
      "[CV] END max_depth=8, max_features=5, min_samples_split=20, n_estimators=500; total time=  19.3s\n",
      "[CV] END max_depth=8, max_features=8, min_samples_split=20, n_estimators=200; total time=   5.1s\n",
      "[CV] END max_depth=15, max_features=auto, min_samples_split=20, n_estimators=1000; total time= 2.3min\n",
      "[CV] END max_depth=15, max_features=auto, min_samples_split=2, n_estimators=200; total time=  52.0s\n",
      "[CV] END max_depth=None, max_features=7, min_samples_split=15, n_estimators=1000; total time=  28.7s\n",
      "[CV] END max_depth=5, max_features=5, min_samples_split=2, n_estimators=1000; total time=  16.3s\n",
      "[CV] END max_depth=15, max_features=auto, min_samples_split=8, n_estimators=1000; total time= 1.9min\n",
      "[CV] END max_depth=None, max_features=auto, min_samples_split=2, n_estimators=200; total time=  32.3s\n",
      "[CV] END max_depth=10, max_features=8, min_samples_split=15, n_estimators=200; total time=   7.3s\n",
      "[CV] END max_depth=10, max_features=8, min_samples_split=15, n_estimators=200; total time=   6.1s\n",
      "[CV] END max_depth=5, max_features=8, min_samples_split=15, n_estimators=1000; total time=  36.9s\n",
      "[CV] END max_depth=8, max_features=7, min_samples_split=15, n_estimators=1000; total time=  37.9s\n",
      "[CV] END max_depth=8, max_features=auto, min_samples_split=2, n_estimators=100; total time=  17.9s\n",
      "[CV] END max_depth=10, max_features=8, min_samples_split=20, n_estimators=200; total time=  13.1s\n",
      "[CV] END max_depth=8, max_features=8, min_samples_split=8, n_estimators=200; total time=   4.8s\n",
      "[CV] END max_depth=8, max_features=auto, min_samples_split=2, n_estimators=500; total time=  47.2s\n",
      "[CV] END max_depth=5, max_features=auto, min_samples_split=2, n_estimators=100; total time=   4.7s\n",
      "[CV] END max_depth=8, max_features=5, min_samples_split=8, n_estimators=1000; total time=  24.4s\n",
      "[CV] END max_depth=10, max_features=8, min_samples_split=2, n_estimators=100; total time=  12.8s\n",
      "[CV] END max_depth=10, max_features=8, min_samples_split=2, n_estimators=100; total time=   4.9s\n",
      "[CV] END max_depth=10, max_features=auto, min_samples_split=2, n_estimators=200; total time=  24.6s\n",
      "[CV] END max_depth=15, max_features=5, min_samples_split=2, n_estimators=200; total time=   7.3s\n",
      "[CV] END max_depth=10, max_features=8, min_samples_split=20, n_estimators=100; total time=   2.8s\n",
      "[CV] END max_depth=8, max_features=5, min_samples_split=20, n_estimators=100; total time=   1.7s\n",
      "[CV] END max_depth=None, max_features=auto, min_samples_split=8, n_estimators=500; total time= 1.2min\n",
      "[CV] END max_depth=5, max_features=auto, min_samples_split=15, n_estimators=100; total time=  13.7s\n",
      "[CV] END max_depth=15, max_features=8, min_samples_split=15, n_estimators=100; total time=   9.6s\n",
      "[CV] END max_depth=None, max_features=auto, min_samples_split=20, n_estimators=1000; total time= 1.8min\n",
      "[CV] END max_depth=None, max_features=8, min_samples_split=15, n_estimators=1000; total time=  21.1s\n",
      "[CV] END max_depth=8, max_features=auto, min_samples_split=2, n_estimators=1000; total time=  35.2s\n",
      "[CV] END max_depth=5, max_features=5, min_samples_split=8, n_estimators=1000; total time=   7.7s\n",
      "[CV] END max_depth=15, max_features=8, min_samples_split=15, n_estimators=200; total time=   3.7s\n",
      "[CV] END colsample_bytree=0.8, learning_rate=0.1, max_depth=8, n_estimators=100; total time=   0.5s\n",
      "[CV] END colsample_bytree=1, learning_rate=0.1, max_depth=5, n_estimators=200; total time=   0.8s\n",
      "[CV] END colsample_bytree=0.8, learning_rate=0.01, max_depth=12, n_estimators=300; total time=   9.4s\n",
      "[CV] END colsample_bytree=0.5, learning_rate=0.01, max_depth=12, n_estimators=200; total time=   4.3s\n",
      "[CV] END colsample_bytree=0.3, learning_rate=0.1, max_depth=12, n_estimators=100; total time=   1.7s\n",
      "[CV] END colsample_bytree=0.4, learning_rate=0.01, max_depth=12, n_estimators=100; total time=   2.1s\n",
      "[CV] END colsample_bytree=0.8, learning_rate=0.1, max_depth=5, n_estimators=100; total time=   0.4s\n",
      "[CV] END colsample_bytree=0.8, learning_rate=0.1, max_depth=5, n_estimators=100; total time=   0.4s\n",
      "[CV] END colsample_bytree=0.8, learning_rate=0.01, max_depth=5, n_estimators=300; total time=   1.4s\n",
      "[CV] END colsample_bytree=1, learning_rate=0.1, max_depth=30, n_estimators=100; total time=  16.4s\n",
      "[CV] END colsample_bytree=0.4, learning_rate=0.1, max_depth=8, n_estimators=100; total time=   0.8s\n",
      "[CV] END colsample_bytree=0.4, learning_rate=0.01, max_depth=5, n_estimators=300; total time=   1.0s\n",
      "[CV] END colsample_bytree=1, learning_rate=0.1, max_depth=5, n_estimators=300; total time=   0.9s\n",
      "[CV] END colsample_bytree=0.4, learning_rate=0.01, max_depth=12, n_estimators=300; total time=   4.1s\n",
      "[CV] END colsample_bytree=0.4, learning_rate=0.01, max_depth=30, n_estimators=200; total time=   4.8s\n",
      "[CV] END colsample_bytree=1, learning_rate=0.01, max_depth=8, n_estimators=100; total time=   1.0s\n",
      "[CV] END colsample_bytree=0.8, learning_rate=0.1, max_depth=12, n_estimators=200; total time=   3.9s\n",
      "[CV] END colsample_bytree=0.4, learning_rate=0.01, max_depth=30, n_estimators=300; total time=  10.1s\n",
      "[CV] END colsample_bytree=0.5, learning_rate=0.01, max_depth=12, n_estimators=300; total time=   7.9s\n",
      "[CV] END colsample_bytree=0.4, learning_rate=0.01, max_depth=30, n_estimators=100; total time=   2.5s\n",
      "[CV] END colsample_bytree=0.4, learning_rate=0.01, max_depth=30, n_estimators=100; total time=   2.3s\n",
      "[CV] END colsample_bytree=0.5, learning_rate=0.1, max_depth=8, n_estimators=200; total time=   1.6s\n",
      "[CV] END colsample_bytree=0.5, learning_rate=0.1, max_depth=8, n_estimators=200; total time=   1.4s\n",
      "[CV] END colsample_bytree=0.5, learning_rate=0.1, max_depth=5, n_estimators=200; total time=   0.7s\n",
      "[CV] END colsample_bytree=1, learning_rate=0.01, max_depth=30, n_estimators=300; total time=  28.7s\n",
      "[CV] END colsample_bytree=0.8, learning_rate=0.01, max_depth=20, n_estimators=200; total time=  11.2s\n",
      "[CV] END colsample_bytree=0.4, learning_rate=0.1, max_depth=20, n_estimators=200; total time=  11.2s\n",
      "[CV] END colsample_bytree=1, learning_rate=0.1, max_depth=20, n_estimators=200; total time=  32.1s\n",
      "[CV] END colsample_bytree=1, learning_rate=0.1, max_depth=20, n_estimators=200; total time=  23.1s\n",
      "[CV] END colsample_bytree=0.5, learning_rate=0.1, max_depth=8, n_estimators=300; total time=   2.7s\n",
      "[CV] END colsample_bytree=0.5, learning_rate=0.01, max_depth=20, n_estimators=100; total time=   3.7s\n",
      "[CV] END colsample_bytree=0.3, learning_rate=0.1, max_depth=12, n_estimators=200; total time=   3.0s\n",
      "[CV] END colsample_bytree=1, learning_rate=0.01, max_depth=20, n_estimators=100; total time=   5.4s\n",
      "[CV] END colsample_bytree=1, learning_rate=0.1, max_depth=8, n_estimators=100; total time=   0.8s\n",
      "[CV] END colsample_bytree=0.4, learning_rate=0.1, max_depth=5, n_estimators=200; total time=   0.8s\n",
      "[CV] END colsample_bytree=0.5, learning_rate=0.1, max_depth=8, n_estimators=100; total time=   1.1s\n",
      "[CV] END colsample_bytree=0.3, learning_rate=0.1, max_depth=30, n_estimators=200; total time=   6.2s\n",
      "[CV] END colsample_bytree=1, learning_rate=0.1, max_depth=8, n_estimators=300; total time=   2.7s\n",
      "[CV] END colsample_bytree=1, learning_rate=0.1, max_depth=8, n_estimators=300; total time=   3.2s\n",
      "[CV] END colsample_bytree=0.3, learning_rate=0.1, max_depth=30, n_estimators=300; total time=  10.8s\n",
      "[CV] END colsample_bytree=0.5, learning_rate=0.01, max_depth=12, n_estimators=100; total time=   2.4s\n",
      "[CV] END colsample_bytree=0.5, learning_rate=0.01, max_depth=12, n_estimators=100; total time=   1.9s\n",
      "[CV] END colsample_bytree=0.8, learning_rate=0.1, max_depth=12, n_estimators=100; total time=   2.5s\n",
      "[CV] END colsample_bytree=0.3, learning_rate=0.01, max_depth=5, n_estimators=300; total time=   0.8s\n",
      "[CV] END colsample_bytree=0.3, learning_rate=0.1, max_depth=30, n_estimators=100; total time=   2.7s\n",
      "[CV] END colsample_bytree=0.5, learning_rate=0.1, max_depth=30, n_estimators=200; total time=  17.2s\n",
      "[CV] END colsample_bytree=0.8, learning_rate=0.01, max_depth=20, n_estimators=300; total time=  17.6s\n",
      "[CV] END .....................learning_rate=0.1, max_depth=6; total time=  10.4s\n",
      "[CV] END ....................learning_rate=0.1, max_depth=20; total time=   0.1s\n",
      "[CV] END ....................learning_rate=0.1, max_depth=30; total time=   0.1s\n",
      "[CV] END ....................learning_rate=0.1, max_depth=30; total time=   0.1s\n",
      "[CV] END ....................learning_rate=0.01, max_depth=6; total time=  16.0s\n",
      "[CV] END ....................learning_rate=0.01, max_depth=8; total time=  40.3s\n",
      "[CV] END ...................learning_rate=0.01, max_depth=12; total time= 3.6min\n",
      "[CV] END ...................learning_rate=0.05, max_depth=12; total time= 2.7min\n",
      "[CV] END .....................................n_neighbors=10; total time=   1.0s\n",
      "[CV] END .....................................n_neighbors=40; total time=   1.1s\n",
      "[CV] END max_depth=10, max_features=auto, min_samples_split=15, n_estimators=100; total time=  10.5s\n",
      "[CV] END max_depth=10, max_features=auto, min_samples_split=15, n_estimators=100; total time=  14.0s\n",
      "[CV] END max_depth=15, max_features=5, min_samples_split=20, n_estimators=100; total time=   2.3s\n",
      "[CV] END max_depth=15, max_features=8, min_samples_split=8, n_estimators=100; total time=   8.5s\n",
      "[CV] END max_depth=10, max_features=8, min_samples_split=15, n_estimators=1000; total time=  53.4s\n",
      "[CV] END max_depth=10, max_features=auto, min_samples_split=20, n_estimators=200; total time=  23.9s\n",
      "[CV] END max_depth=5, max_features=5, min_samples_split=20, n_estimators=500; total time=   7.0s\n",
      "[CV] END max_depth=8, max_features=8, min_samples_split=15, n_estimators=1000; total time=  50.9s\n",
      "[CV] END max_depth=15, max_features=auto, min_samples_split=2, n_estimators=200; total time=  46.5s\n",
      "[CV] END max_depth=10, max_features=auto, min_samples_split=15, n_estimators=1000; total time= 1.3min\n",
      "[CV] END max_depth=5, max_features=auto, min_samples_split=2, n_estimators=1000; total time=  54.2s\n",
      "[CV] END max_depth=10, max_features=auto, min_samples_split=20, n_estimators=1000; total time= 1.9min\n",
      "[CV] END max_depth=15, max_features=7, min_samples_split=20, n_estimators=1000; total time= 1.0min\n",
      "[CV] END max_depth=None, max_features=5, min_samples_split=15, n_estimators=200; total time=   4.6s\n",
      "[CV] END max_depth=8, max_features=auto, min_samples_split=2, n_estimators=500; total time=  47.1s\n",
      "[CV] END max_depth=5, max_features=8, min_samples_split=20, n_estimators=500; total time=   9.8s\n",
      "[CV] END max_depth=15, max_features=auto, min_samples_split=20, n_estimators=100; total time=   9.0s\n",
      "[CV] END max_depth=None, max_features=7, min_samples_split=2, n_estimators=500; total time=  45.8s\n",
      "[CV] END max_depth=15, max_features=auto, min_samples_split=20, n_estimators=500; total time=  56.4s\n",
      "[CV] END max_depth=8, max_features=5, min_samples_split=2, n_estimators=1000; total time=  31.1s\n",
      "[CV] END max_depth=5, max_features=8, min_samples_split=2, n_estimators=1000; total time=  49.8s\n",
      "[CV] END max_depth=15, max_features=5, min_samples_split=8, n_estimators=500; total time=  41.6s\n",
      "[CV] END max_depth=10, max_features=auto, min_samples_split=8, n_estimators=100; total time=   8.9s\n",
      "[CV] END max_depth=15, max_features=8, min_samples_split=15, n_estimators=1000; total time=  25.0s\n",
      "[CV] END max_depth=8, max_features=8, min_samples_split=15, n_estimators=500; total time=   7.0s\n",
      "[CV] END max_depth=15, max_features=5, min_samples_split=8, n_estimators=100; total time=   2.0s\n",
      "[CV] END max_depth=15, max_features=5, min_samples_split=8, n_estimators=100; total time=   1.9s\n",
      "[CV] END max_depth=None, max_features=8, min_samples_split=2, n_estimators=500; total time=  14.7s\n",
      "[CV] END max_depth=10, max_features=5, min_samples_split=8, n_estimators=1000; total time=  15.4s\n",
      "[CV] END max_depth=10, max_features=5, min_samples_split=2, n_estimators=1000; total time=  11.5s\n",
      "[CV] END max_depth=10, max_features=auto, min_samples_split=8, n_estimators=200; total time=   7.7s\n",
      "[CV] END max_depth=8, max_features=auto, min_samples_split=20, n_estimators=100; total time=   3.2s\n",
      "[CV] END max_depth=15, max_features=7, min_samples_split=15, n_estimators=500; total time=   8.7s\n",
      "[CV] END max_depth=5, max_features=5, min_samples_split=8, n_estimators=1000; total time=   7.6s\n",
      "[CV] END colsample_bytree=1, learning_rate=0.01, max_depth=5, n_estimators=200; total time=   0.6s\n",
      "[CV] END colsample_bytree=0.3, learning_rate=0.01, max_depth=5, n_estimators=100; total time=   0.6s\n",
      "[CV] END colsample_bytree=0.3, learning_rate=0.01, max_depth=5, n_estimators=100; total time=   0.6s\n",
      "[CV] END colsample_bytree=0.5, learning_rate=0.01, max_depth=20, n_estimators=200; total time=   8.8s\n",
      "[CV] END colsample_bytree=0.5, learning_rate=0.01, max_depth=12, n_estimators=200; total time=   4.7s\n",
      "[CV] END colsample_bytree=0.5, learning_rate=0.01, max_depth=30, n_estimators=100; total time=   4.0s\n",
      "[CV] END colsample_bytree=1, learning_rate=0.01, max_depth=8, n_estimators=300; total time=   4.2s\n",
      "[CV] END colsample_bytree=0.8, learning_rate=0.1, max_depth=20, n_estimators=200; total time=  19.0s\n",
      "[CV] END colsample_bytree=0.3, learning_rate=0.01, max_depth=20, n_estimators=300; total time=   5.2s\n",
      "[CV] END colsample_bytree=0.8, learning_rate=0.01, max_depth=20, n_estimators=100; total time=   3.9s\n",
      "[CV] END colsample_bytree=0.4, learning_rate=0.01, max_depth=5, n_estimators=100; total time=   0.5s\n",
      "[CV] END colsample_bytree=0.4, learning_rate=0.01, max_depth=8, n_estimators=300; total time=   3.2s\n",
      "[CV] END colsample_bytree=1, learning_rate=0.1, max_depth=12, n_estimators=100; total time=   3.5s\n",
      "[CV] END colsample_bytree=1, learning_rate=0.1, max_depth=20, n_estimators=100; total time=  14.9s\n",
      "[CV] END colsample_bytree=0.4, learning_rate=0.01, max_depth=30, n_estimators=100; total time=   2.4s\n",
      "[CV] END colsample_bytree=1, learning_rate=0.1, max_depth=20, n_estimators=300; total time=  36.5s\n",
      "[CV] END colsample_bytree=1, learning_rate=0.1, max_depth=30, n_estimators=300; total time= 1.0min\n",
      "[CV] END colsample_bytree=0.8, learning_rate=0.01, max_depth=8, n_estimators=100; total time=   0.9s\n",
      "[CV] END colsample_bytree=0.8, learning_rate=0.01, max_depth=5, n_estimators=100; total time=   0.4s\n",
      "[CV] END colsample_bytree=1, learning_rate=0.01, max_depth=8, n_estimators=200; total time=   2.3s\n",
      "[CV] END colsample_bytree=0.4, learning_rate=0.01, max_depth=20, n_estimators=200; total time=   5.2s\n",
      "[CV] END colsample_bytree=1, learning_rate=0.1, max_depth=12, n_estimators=200; total time=   6.6s\n",
      "[CV] END colsample_bytree=0.5, learning_rate=0.01, max_depth=20, n_estimators=100; total time=   3.5s\n",
      "[CV] END colsample_bytree=0.3, learning_rate=0.1, max_depth=12, n_estimators=200; total time=   3.5s\n",
      "[CV] END colsample_bytree=0.3, learning_rate=0.1, max_depth=12, n_estimators=200; total time=   3.0s\n",
      "[CV] END colsample_bytree=1, learning_rate=0.01, max_depth=20, n_estimators=100; total time=   5.2s\n",
      "[CV] END colsample_bytree=0.3, learning_rate=0.1, max_depth=30, n_estimators=200; total time=   6.4s\n",
      "[CV] END colsample_bytree=1, learning_rate=0.1, max_depth=8, n_estimators=300; total time=   3.3s\n",
      "[CV] END colsample_bytree=0.3, learning_rate=0.1, max_depth=30, n_estimators=300; total time=  11.2s\n",
      "[CV] END colsample_bytree=0.8, learning_rate=0.1, max_depth=5, n_estimators=300; total time=   1.9s\n",
      "[CV] END colsample_bytree=0.5, learning_rate=0.01, max_depth=30, n_estimators=200; total time=   7.6s\n",
      "[CV] END colsample_bytree=0.3, learning_rate=0.1, max_depth=30, n_estimators=100; total time=   2.9s\n",
      "[CV] END colsample_bytree=0.5, learning_rate=0.1, max_depth=30, n_estimators=200; total time=  17.9s\n",
      "[CV] END colsample_bytree=0.3, learning_rate=0.01, max_depth=30, n_estimators=200; total time=   4.4s\n",
      "[CV] END colsample_bytree=0.3, learning_rate=0.01, max_depth=30, n_estimators=200; total time=   4.2s\n",
      "[CV] END .....................learning_rate=0.1, max_depth=8; total time=  27.9s\n",
      "[CV] END ....................learning_rate=0.01, max_depth=8; total time=  41.5s\n",
      "[CV] END ...................learning_rate=0.01, max_depth=20; total time=   0.2s\n",
      "[CV] END ...................learning_rate=0.01, max_depth=20; total time=   0.2s\n",
      "[CV] END ...................learning_rate=0.01, max_depth=20; total time=   0.3s\n",
      "[CV] END ...................learning_rate=0.01, max_depth=30; total time=   0.3s\n",
      "[CV] END ...................learning_rate=0.01, max_depth=30; total time=   0.4s\n",
      "[CV] END ....................learning_rate=0.06, max_depth=6; total time=  23.5s\n",
      "[CV] END ....................learning_rate=0.06, max_depth=8; total time=  50.8s\n",
      "[CV] END ....................learning_rate=0.06, max_depth=8; total time= 1.1min\n",
      "[CV] END ...................learning_rate=0.06, max_depth=20; total time=   0.3s\n",
      "[CV] END ...................learning_rate=0.06, max_depth=20; total time=   0.2s\n",
      "[CV] END ...................learning_rate=0.06, max_depth=20; total time=   0.4s\n",
      "[CV] END ...................learning_rate=0.06, max_depth=30; total time=   0.2s\n",
      "[CV] END ...................learning_rate=0.06, max_depth=30; total time=   0.5s\n",
      "[CV] END ...................learning_rate=0.06, max_depth=30; total time=   0.5s\n",
      "[CV] END ....................learning_rate=0.05, max_depth=6; total time=  22.6s\n",
      "[CV] END ....................learning_rate=0.05, max_depth=8; total time=  48.9s\n",
      "[CV] END ...................learning_rate=0.05, max_depth=12; total time= 2.7min\n",
      "---------------- Best Params for KNN -------------------\n",
      "{'n_neighbors': 10}\n",
      "---------------- Best Params for RF -------------------\n",
      "{'n_estimators': 100, 'min_samples_split': 8, 'max_features': 8, 'max_depth': 15}\n",
      "---------------- Best Params for XGBoost -------------------\n",
      "{'n_estimators': 200, 'max_depth': 5, 'learning_rate': 0.1, 'colsample_bytree': 0.4}\n",
      "---------------- Best Params for CatBoost -------------------\n",
      "{'max_depth': 8, 'learning_rate': 0.05}\n"
     ]
    }
   ],
   "source": [
    "from sklearn.model_selection import RandomizedSearchCV\n",
    "\n",
    "model_param = {}\n",
    "for name, model, params in randomcv_models:\n",
    "    random = RandomizedSearchCV(estimator=model,\n",
    "                                   param_distributions=params,\n",
    "                                   n_iter=100,\n",
    "                                   cv=3,\n",
    "                                   verbose=2,\n",
    "                                   n_jobs=-1)\n",
    "    random.fit(X_train, y_train)\n",
    "    model_param[name] = random.best_params_\n",
    "\n",
    "for model_name in model_param:\n",
    "    print(f\"---------------- Best Params for {model_name} -------------------\")\n",
    "    print(model_param[model_name])"
   ]
  },
  {
   "cell_type": "markdown",
   "id": "9758d026",
   "metadata": {},
   "source": [
    "### Retraining the Model with best Parameters"
   ]
  },
  {
   "cell_type": "code",
   "execution_count": 33,
   "id": "3103bce3",
   "metadata": {},
   "outputs": [
    {
     "name": "stdout",
     "output_type": "stream",
     "text": [
      "Random Forest Regressor\n",
      "Model performance for Training set\n",
      "- Root Mean Squared Error: 67040.8864\n",
      "- Mean Absolute Error: 47832.7660\n",
      "- R2 Score: 0.9671\n",
      "----------------------------------\n",
      "Model performance for Test set\n",
      "- Root Mean Squared Error: 91853.8548\n",
      "- Mean Absolute Error: 63468.1233\n",
      "- R2 Score: 0.9422\n",
      "===================================\n",
      "\n",
      "\n",
      "K-Neighbors Regressor\n",
      "Model performance for Training set\n",
      "- Root Mean Squared Error: 88997.5354\n",
      "- Mean Absolute Error: 60631.6110\n",
      "- R2 Score: 0.9420\n",
      "----------------------------------\n",
      "Model performance for Test set\n",
      "- Root Mean Squared Error: 101123.8301\n",
      "- Mean Absolute Error: 68673.0863\n",
      "- R2 Score: 0.9299\n",
      "===================================\n",
      "\n",
      "\n",
      "XGBRegressor\n",
      "Model performance for Training set\n",
      "- Root Mean Squared Error: 72701.2946\n",
      "- Mean Absolute Error: 52932.5768\n",
      "- R2 Score: 0.9613\n",
      "----------------------------------\n",
      "Model performance for Test set\n",
      "- Root Mean Squared Error: 89952.9866\n",
      "- Mean Absolute Error: 62635.0723\n",
      "- R2 Score: 0.9445\n",
      "===================================\n",
      "\n",
      "\n",
      "CatBoosting Regressor\n",
      "Model performance for Training set\n",
      "- Root Mean Squared Error: 67683.1770\n",
      "- Mean Absolute Error: 49590.4028\n",
      "- R2 Score: 0.9665\n",
      "----------------------------------\n",
      "Model performance for Test set\n",
      "- Root Mean Squared Error: 88543.6434\n",
      "- Mean Absolute Error: 61526.8689\n",
      "- R2 Score: 0.9463\n",
      "===================================\n",
      "\n",
      "\n"
     ]
    }
   ],
   "source": [
    "models = {\n",
    "    \"Random Forest Regressor\": RandomForestRegressor(n_estimators=200, min_samples_split=8, max_features=8, max_depth=15, \n",
    "                                                     n_jobs=-1),\n",
    "     \"K-Neighbors Regressor\": KNeighborsRegressor(n_neighbors=10, n_jobs=-1),\n",
    "    \"XGBRegressor\": XGBRegressor(n_estimators=300, max_depth=5, learning_rate=0.1, colsample_bytree=0.8, n_jobs=-1), \n",
    "     \"CatBoosting Regressor\": CatBoostRegressor(max_depth=8, learning_rate=0.05 ,verbose=False)\n",
    "}\n",
    "\n",
    "for i in range(len(list(models))):\n",
    "    model = list(models.values())[i]\n",
    "    model.fit(X_train, y_train) # Train model\n",
    "\n",
    "    # Make predictions\n",
    "    y_train_pred = model.predict(X_train)\n",
    "    y_test_pred = model.predict(X_test)\n",
    "\n",
    "    model_train_mae , model_train_rmse, model_train_r2 = evaluate_model(y_train, y_train_pred)\n",
    "\n",
    "    model_test_mae , model_test_rmse, model_test_r2 = evaluate_model(y_test, y_test_pred)\n",
    "    \n",
    "    print(list(models.keys())[i])\n",
    "    \n",
    "    print('Model performance for Training set')\n",
    "    print(\"- Root Mean Squared Error: {:.4f}\".format(model_train_rmse))\n",
    "    print(\"- Mean Absolute Error: {:.4f}\".format(model_train_mae))\n",
    "    print(\"- R2 Score: {:.4f}\".format(model_train_r2))\n",
    "\n",
    "    print('----------------------------------')\n",
    "    \n",
    "    print('Model performance for Test set')\n",
    "    print(\"- Root Mean Squared Error: {:.4f}\".format(model_test_rmse))\n",
    "    print(\"- Mean Absolute Error: {:.4f}\".format(model_test_mae))\n",
    "    print(\"- R2 Score: {:.4f}\".format(model_test_r2))\n",
    "    \n",
    "    print('='*35)\n",
    "    print('\\n')"
   ]
  },
  {
   "cell_type": "markdown",
   "id": "5ae3b91e",
   "metadata": {},
   "source": [
    "| Model Name | R2 Score |\n",
    "| ----------- | ----------- |\n",
    "| CatBoost Regressor   | 0.9463   |\n",
    "| XGBRegressor   | 0.9445       |\n",
    "| RandomForest Regressor | 0.9422      |\n",
    "| K-Neighbors Regressor   | 0.9299   |"
   ]
  },
  {
   "cell_type": "markdown",
   "id": "9bc98424",
   "metadata": {},
   "source": [
    "### We can use cross validation score for further evaluation.\n",
    "\n",
    "Cross-validation is a statistical method used to estimate the accuracy of machine learning models. It is used to protect against overfitting in a predictive model, particularly in a case where the amount of data may be limited."
   ]
  },
  {
   "cell_type": "markdown",
   "id": "204ad8c1",
   "metadata": {},
   "source": [
    "**Stratified K-fold Cross Validation Technique on 4 algorithm to know the exact Mean CV accuracy score**"
   ]
  },
  {
   "cell_type": "code",
   "execution_count": 35,
   "id": "0d91f186",
   "metadata": {},
   "outputs": [],
   "source": [
    "from sklearn.model_selection import cross_val_score, RepeatedKFold\n",
    "cv = RepeatedKFold(n_splits=10, n_repeats=3, random_state=42)"
   ]
  },
  {
   "cell_type": "code",
   "execution_count": 36,
   "id": "6b8ba299",
   "metadata": {},
   "outputs": [
    {
     "name": "stdout",
     "output_type": "stream",
     "text": [
      "CatBoost CV Mean Accuarcy Score is 93.072722405229\n"
     ]
    }
   ],
   "source": [
    "cat_cv_result = cross_val_score(CatBoostRegressor(max_depth=8, learning_rate=0.05 ,verbose=False),\n",
    "                                X_test, y_test, cv=cv,n_jobs=-1)\n",
    "cat_cv = cat_cv_result.mean()*100\n",
    "print('CatBoost CV Mean Accuarcy Score is {}'.format(cat_cv))"
   ]
  },
  {
   "cell_type": "code",
   "execution_count": 37,
   "id": "9b829187",
   "metadata": {},
   "outputs": [
    {
     "name": "stdout",
     "output_type": "stream",
     "text": [
      "KNN Regressor CV Mean Accuarcy Score is 89.74379884638878\n"
     ]
    }
   ],
   "source": [
    "knn_cv_result = cross_val_score(KNeighborsRegressor(n_neighbors=10, n_jobs=-1),\n",
    "                                X_test, y_test, cv=cv,n_jobs=-1)\n",
    "knn_cv = knn_cv_result.mean()*100\n",
    "print('KNN Regressor CV Mean Accuarcy Score is {}'.format(knn_cv))"
   ]
  },
  {
   "cell_type": "code",
   "execution_count": 38,
   "id": "b40066de",
   "metadata": {},
   "outputs": [
    {
     "name": "stdout",
     "output_type": "stream",
     "text": [
      "Random Forest Regressor CV Mean Accuarcy Score is 92.55059431918727\n"
     ]
    }
   ],
   "source": [
    "rf_cv_result = cross_val_score(RandomForestRegressor(n_estimators=300, min_samples_split=8, max_features=8, max_depth=15, \n",
    "                                                     n_jobs=-1), X_test, y_test, cv=cv,n_jobs=-1)\n",
    "rf_cv = rf_cv_result.mean()*100\n",
    "print('Random Forest Regressor CV Mean Accuarcy Score is {}'.format(rf_cv))"
   ]
  },
  {
   "cell_type": "code",
   "execution_count": 39,
   "id": "e950a4c6",
   "metadata": {},
   "outputs": [
    {
     "name": "stdout",
     "output_type": "stream",
     "text": [
      "XGB Regressor CV Mean Accuarcy Score is 92.89415371967164\n"
     ]
    }
   ],
   "source": [
    "xgb_cv_result = cross_val_score(XGBRegressor(n_estimators=300, max_depth=5, learning_rate=0.1, colsample_bytree=0.8, n_jobs=-1),\n",
    "                                X_test, y_test, cv=cv,n_jobs=-1)\n",
    "xgb_cv = xgb_cv_result.mean()*100\n",
    "print('XGB Regressor CV Mean Accuarcy Score is {}'.format(xgb_cv))"
   ]
  },
  {
   "cell_type": "markdown",
   "id": "e76d624f",
   "metadata": {},
   "source": [
    "| Model Name      | Cross_val_score |\n",
    "| ----------- | ----------- |\n",
    "| CatBoosting Regressor   | 93.07%       |\n",
    "|XGBRegressor   | 92.89%        |\n",
    "| RandomForest Regressor | 92.55%       |\n",
    "| K-Neighbors Regressor   | 89.74%        |\n"
   ]
  },
  {
   "cell_type": "code",
   "execution_count": 40,
   "id": "398bb6cb",
   "metadata": {},
   "outputs": [
    {
     "name": "stdout",
     "output_type": "stream",
     "text": [
      "FINAL MODEL 'CatBoost'\n",
      "r2 Score value: 0.9463\n"
     ]
    }
   ],
   "source": [
    "best_model = CatBoostRegressor(max_depth=8, learning_rate=0.05 ,verbose=False)\n",
    "best_model = best_model.fit(X_train,y_train)\n",
    "y_pred = best_model.predict(X_test)\n",
    "score = r2_score(y_test,y_pred)\n",
    "\n",
    "print(\"FINAL MODEL 'CatBoost'\")\n",
    "print (\"r2 Score value: {:.4f}\".format(score))"
   ]
  },
  {
   "cell_type": "markdown",
   "id": "109cccb4",
   "metadata": {},
   "source": [
    "### Best Model is CATBoost Regressor with 0.9463 R2 Score and also performed well in Cross validation"
   ]
  },
  {
   "cell_type": "code",
   "execution_count": 41,
   "id": "23991173",
   "metadata": {},
   "outputs": [],
   "source": [
    "import pickle\n",
    " \n",
    "# Save the trained model as a pickle file.\n",
    "pickle.dump(best_model, open('Usedcarregression.pkl', 'wb'))"
   ]
  },
  {
   "cell_type": "code",
   "execution_count": null,
   "id": "bb101545",
   "metadata": {},
   "outputs": [],
   "source": []
  }
 ],
 "metadata": {
  "kernelspec": {
   "display_name": "Python 3 (ipykernel)",
   "language": "python",
   "name": "python3"
  },
  "language_info": {
   "codemirror_mode": {
    "name": "ipython",
    "version": 3
   },
   "file_extension": ".py",
   "mimetype": "text/x-python",
   "name": "python",
   "nbconvert_exporter": "python",
   "pygments_lexer": "ipython3",
   "version": "3.11.5"
  }
 },
 "nbformat": 4,
 "nbformat_minor": 5
}
